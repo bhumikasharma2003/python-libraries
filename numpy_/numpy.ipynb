{
 "cells": [
  {
   "cell_type": "code",
   "execution_count": 3,
   "metadata": {},
   "outputs": [
    {
     "name": "stdout",
     "output_type": "stream",
     "text": [
      "numpy is imported\n"
     ]
    }
   ],
   "source": [
    "import numpy as np\n",
    "print(\"numpy is imported\")"
   ]
  },
  {
   "cell_type": "code",
   "execution_count": 4,
   "metadata": {},
   "outputs": [
    {
     "data": {
      "text/plain": [
       "[41, 52, 63, 96, 85, 74, 523, 14, 47, 58, 69]"
      ]
     },
     "execution_count": 4,
     "metadata": {},
     "output_type": "execute_result"
    }
   ],
   "source": [
    "ls = [41,52,63,96,85,74,523,14,47,58,69]\n",
    "ls"
   ]
  },
  {
   "cell_type": "code",
   "execution_count": 5,
   "metadata": {},
   "outputs": [
    {
     "data": {
      "text/plain": [
       "array([ 41,  52,  63,  96,  85,  74, 523,  14,  47,  58,  69])"
      ]
     },
     "execution_count": 5,
     "metadata": {},
     "output_type": "execute_result"
    }
   ],
   "source": [
    "arr = np.array(ls)\n",
    "arr"
   ]
  },
  {
   "cell_type": "code",
   "execution_count": 6,
   "metadata": {},
   "outputs": [
    {
     "data": {
      "text/plain": [
       "numpy.ndarray"
      ]
     },
     "execution_count": 6,
     "metadata": {},
     "output_type": "execute_result"
    }
   ],
   "source": [
    "type(arr)"
   ]
  },
  {
   "cell_type": "code",
   "execution_count": 9,
   "metadata": {},
   "outputs": [
    {
     "data": {
      "text/plain": [
       "1"
      ]
     },
     "execution_count": 9,
     "metadata": {},
     "output_type": "execute_result"
    }
   ],
   "source": [
    "arr.ndim  # no.of dimention \n",
    "\n",
    "#[25,41,63]\n",
    "#[[],[],[]]     =>>>>> 2 D array"
   ]
  },
  {
   "cell_type": "code",
   "execution_count": 10,
   "metadata": {},
   "outputs": [
    {
     "data": {
      "text/plain": [
       "dtype('int64')"
      ]
     },
     "execution_count": 10,
     "metadata": {},
     "output_type": "execute_result"
    }
   ],
   "source": [
    "arr.dtype"
   ]
  },
  {
   "cell_type": "code",
   "execution_count": 24,
   "metadata": {},
   "outputs": [
    {
     "data": {
      "text/plain": [
       "array(['41', '52', '63', '96', '85', '74', '523', '14', '47', '58', '69',\n",
       "       'upflairs'], dtype='<U21')"
      ]
     },
     "execution_count": 24,
     "metadata": {},
     "output_type": "execute_result"
    }
   ],
   "source": [
    "\n",
    "ls = [41,52,63,96,85,74,523,14,47,58,69,'upflairs']\n",
    "arr = np.array(ls)\n",
    "arr \n"
   ]
  },
  {
   "cell_type": "code",
   "execution_count": 25,
   "metadata": {},
   "outputs": [
    {
     "data": {
      "text/plain": [
       "np.str_('63')"
      ]
     },
     "execution_count": 25,
     "metadata": {},
     "output_type": "execute_result"
    }
   ],
   "source": [
    "arr[2]"
   ]
  },
  {
   "cell_type": "code",
   "execution_count": 26,
   "metadata": {},
   "outputs": [
    {
     "data": {
      "text/plain": [
       "array([ 41,  52,  63,  96,  85,  74, 523,  14,  47,  58,  69])"
      ]
     },
     "execution_count": 26,
     "metadata": {},
     "output_type": "execute_result"
    }
   ],
   "source": [
    "\n",
    "ls = [41,52,63,96,85,74,523,14,47,58,69,]\n",
    "arr = np.array(ls)\n",
    "arr "
   ]
  },
  {
   "cell_type": "code",
   "execution_count": 28,
   "metadata": {},
   "outputs": [
    {
     "data": {
      "text/plain": [
       "np.int64(96)"
      ]
     },
     "execution_count": 28,
     "metadata": {},
     "output_type": "execute_result"
    }
   ],
   "source": [
    "arr[3]"
   ]
  },
  {
   "cell_type": "code",
   "execution_count": 33,
   "metadata": {},
   "outputs": [
    {
     "data": {
      "text/plain": [
       "array([ 41,  23,  56,  88,  54,  97,  34,  46, 567, 564,  78,  65,  90,\n",
       "        12,   3])"
      ]
     },
     "execution_count": 33,
     "metadata": {},
     "output_type": "execute_result"
    }
   ],
   "source": [
    "ls = [41,23,56,88,54,97,34,46,567,564,78,65,90,12,3]\n",
    "arr = np.array(ls)\n",
    "arr"
   ]
  },
  {
   "cell_type": "code",
   "execution_count": 34,
   "metadata": {},
   "outputs": [
    {
     "data": {
      "text/plain": [
       "array([56, 54])"
      ]
     },
     "execution_count": 34,
     "metadata": {},
     "output_type": "execute_result"
    }
   ],
   "source": [
    "arr[2:5:2]"
   ]
  },
  {
   "cell_type": "code",
   "execution_count": 35,
   "metadata": {},
   "outputs": [
    {
     "data": {
      "text/plain": [
       "array([ 41,  23,  56,  88,  54,  97,  34,  46, 567, 564,  78,  65,  90,\n",
       "        12,   3])"
      ]
     },
     "execution_count": 35,
     "metadata": {},
     "output_type": "execute_result"
    }
   ],
   "source": [
    "arr"
   ]
  },
  {
   "cell_type": "code",
   "execution_count": 36,
   "metadata": {},
   "outputs": [
    {
     "data": {
      "text/plain": [
       "15"
      ]
     },
     "execution_count": 36,
     "metadata": {},
     "output_type": "execute_result"
    }
   ],
   "source": [
    "arr.size"
   ]
  },
  {
   "cell_type": "code",
   "execution_count": 37,
   "metadata": {},
   "outputs": [
    {
     "data": {
      "text/plain": [
       "15"
      ]
     },
     "execution_count": 37,
     "metadata": {},
     "output_type": "execute_result"
    }
   ],
   "source": [
    "len(arr) #polymorphism"
   ]
  },
  {
   "cell_type": "code",
   "execution_count": 38,
   "metadata": {},
   "outputs": [
    {
     "data": {
      "text/plain": [
       "array([ 41,  23,  56,  88,  54,  97,  34,  46, 567, 564,  78,  65,  90,\n",
       "        12,   3])"
      ]
     },
     "execution_count": 38,
     "metadata": {},
     "output_type": "execute_result"
    }
   ],
   "source": [
    "arr"
   ]
  },
  {
   "cell_type": "code",
   "execution_count": 39,
   "metadata": {},
   "outputs": [
    {
     "data": {
      "text/plain": [
       "array([ 41,  23,  56,  88,  54,  97,  34,  46, 567, 564,  78,  65,  90,\n",
       "        12,   3])"
      ]
     },
     "execution_count": 39,
     "metadata": {},
     "output_type": "execute_result"
    }
   ],
   "source": [
    "ls = [41,  23,  56,  88,  54,  97,  34,  46, 567, 564,  78,  65,  90, 12,   3]\n",
    "arr = np.array(ls)\n",
    "arr > 50\n",
    "arr"
   ]
  },
  {
   "cell_type": "code",
   "execution_count": 40,
   "metadata": {},
   "outputs": [
    {
     "name": "stdout",
     "output_type": "stream",
     "text": [
      "41\n",
      "23\n",
      "34\n",
      "46\n",
      "12\n",
      "3\n"
     ]
    }
   ],
   "source": [
    "arr\n",
    "for i in ls:\n",
    "    if i<50:\n",
    "        print(i)"
   ]
  },
  {
   "cell_type": "code",
   "execution_count": 43,
   "metadata": {},
   "outputs": [
    {
     "data": {
      "text/plain": [
       "array([41, 23, 34, 46, 12,  3])"
      ]
     },
     "execution_count": 43,
     "metadata": {},
     "output_type": "execute_result"
    }
   ],
   "source": [
    "arr[arr<50]"
   ]
  },
  {
   "cell_type": "code",
   "execution_count": 45,
   "metadata": {},
   "outputs": [
    {
     "data": {
      "text/plain": [
       "array([ 41,  23,  56,  88,  54,  97,  34,  46, 567, 564,  78,  65,  90,\n",
       "        12,   3])"
      ]
     },
     "execution_count": 45,
     "metadata": {},
     "output_type": "execute_result"
    }
   ],
   "source": [
    "arr"
   ]
  },
  {
   "cell_type": "code",
   "execution_count": 46,
   "metadata": {},
   "outputs": [
    {
     "data": {
      "text/plain": [
       "array([ 0,  1,  2,  3,  4,  5,  6,  7,  8,  9, 10, 11, 12, 13, 14, 15, 16,\n",
       "       17, 18, 19, 20, 21, 22, 23, 24, 25, 26, 27, 28, 29, 30, 31, 32, 33,\n",
       "       34, 35, 36, 37, 38, 39, 40, 41, 42, 43, 44, 45, 46, 47, 48, 49])"
      ]
     },
     "execution_count": 46,
     "metadata": {},
     "output_type": "execute_result"
    }
   ],
   "source": [
    "arr2 = np.arange(50)  # 1 d array\n",
    "arr2"
   ]
  },
  {
   "cell_type": "code",
   "execution_count": 52,
   "metadata": {},
   "outputs": [
    {
     "data": {
      "text/plain": [
       "array([[1., 1., 1., 1., 1.],\n",
       "       [1., 1., 1., 1., 1.],\n",
       "       [1., 1., 1., 1., 1.],\n",
       "       [1., 1., 1., 1., 1.],\n",
       "       [1., 1., 1., 1., 1.],\n",
       "       [1., 1., 1., 1., 1.],\n",
       "       [1., 1., 1., 1., 1.],\n",
       "       [1., 1., 1., 1., 1.],\n",
       "       [1., 1., 1., 1., 1.],\n",
       "       [1., 1., 1., 1., 1.]])"
      ]
     },
     "execution_count": 52,
     "metadata": {},
     "output_type": "execute_result"
    }
   ],
   "source": [
    "np.ones((10,5))    # 2d array\n"
   ]
  },
  {
   "cell_type": "code",
   "execution_count": 54,
   "metadata": {},
   "outputs": [
    {
     "data": {
      "text/plain": [
       "array([[0., 0., 0., 0., 0.],\n",
       "       [0., 0., 0., 0., 0.],\n",
       "       [0., 0., 0., 0., 0.],\n",
       "       [0., 0., 0., 0., 0.],\n",
       "       [0., 0., 0., 0., 0.],\n",
       "       [0., 0., 0., 0., 0.],\n",
       "       [0., 0., 0., 0., 0.],\n",
       "       [0., 0., 0., 0., 0.],\n",
       "       [0., 0., 0., 0., 0.],\n",
       "       [0., 0., 0., 0., 0.]])"
      ]
     },
     "execution_count": 54,
     "metadata": {},
     "output_type": "execute_result"
    }
   ],
   "source": [
    "np.zeros((10,5))"
   ]
  },
  {
   "cell_type": "code",
   "execution_count": 58,
   "metadata": {},
   "outputs": [
    {
     "data": {
      "text/plain": [
       "array([ 1.,  2.,  3.,  4.,  5.,  6.,  7.,  8.,  9., 10., 11., 12., 13.,\n",
       "       14., 15., 16., 17., 18., 19., 20., 21., 22., 23., 24., 25., 26.,\n",
       "       27., 28., 29., 30., 31., 32., 33., 34., 35., 36., 37., 38., 39.,\n",
       "       40., 41., 42., 43., 44., 45., 46., 47., 48., 49., 50.])"
      ]
     },
     "execution_count": 58,
     "metadata": {},
     "output_type": "execute_result"
    }
   ],
   "source": [
    "np.linspace(1,50,50)   # in between 1 to 8  write 5 item"
   ]
  },
  {
   "cell_type": "code",
   "execution_count": 59,
   "metadata": {},
   "outputs": [],
   "source": [
    "import random "
   ]
  },
  {
   "cell_type": "code",
   "execution_count": 67,
   "metadata": {},
   "outputs": [
    {
     "data": {
      "text/plain": [
       "3"
      ]
     },
     "execution_count": 67,
     "metadata": {},
     "output_type": "execute_result"
    }
   ],
   "source": [
    "random.randint(1,10)"
   ]
  },
  {
   "cell_type": "code",
   "execution_count": 108,
   "metadata": {},
   "outputs": [
    {
     "data": {
      "text/plain": [
       "0.43614951824827686"
      ]
     },
     "execution_count": 108,
     "metadata": {},
     "output_type": "execute_result"
    }
   ],
   "source": [
    "random.random()"
   ]
  },
  {
   "cell_type": "code",
   "execution_count": 110,
   "metadata": {},
   "outputs": [
    {
     "data": {
      "text/plain": [
       "['bhumika', 'pradeep', 'prabhu', 'pravika', 'divya', 'ayushi', 'bhagyashree']"
      ]
     },
     "execution_count": 110,
     "metadata": {},
     "output_type": "execute_result"
    }
   ],
   "source": [
    "ls = ['bhumika','pradeep','prabhu','pravika','divya','ayushi','bhagyashree']\n",
    "ls"
   ]
  },
  {
   "cell_type": "code",
   "execution_count": 122,
   "metadata": {},
   "outputs": [
    {
     "data": {
      "text/plain": [
       "'pradeep'"
      ]
     },
     "execution_count": 122,
     "metadata": {},
     "output_type": "execute_result"
    }
   ],
   "source": [
    "random.choice(ls)"
   ]
  },
  {
   "cell_type": "code",
   "execution_count": 128,
   "metadata": {},
   "outputs": [
    {
     "data": {
      "text/plain": [
       "['bhumika']"
      ]
     },
     "execution_count": 128,
     "metadata": {},
     "output_type": "execute_result"
    }
   ],
   "source": [
    "random.choices(ls)"
   ]
  },
  {
   "cell_type": "code",
   "execution_count": 190,
   "metadata": {},
   "outputs": [
    {
     "data": {
      "text/plain": [
       "['pravika', 'pradeep', 'bhumika', 'prabhu']"
      ]
     },
     "execution_count": 190,
     "metadata": {},
     "output_type": "execute_result"
    }
   ],
   "source": [
    "random.choices(ls,k=4)"
   ]
  },
  {
   "cell_type": "code",
   "execution_count": 191,
   "metadata": {},
   "outputs": [
    {
     "data": {
      "text/plain": [
       "['bhumika', 'pradeep', 'prabhu', 'pravika', 'divya', 'ayushi', 'bhagyashree']"
      ]
     },
     "execution_count": 191,
     "metadata": {},
     "output_type": "execute_result"
    }
   ],
   "source": [
    "ls"
   ]
  },
  {
   "cell_type": "code",
   "execution_count": 192,
   "metadata": {},
   "outputs": [],
   "source": [
    "random.shuffle(ls)"
   ]
  },
  {
   "cell_type": "code",
   "execution_count": 202,
   "metadata": {},
   "outputs": [
    {
     "data": {
      "text/plain": [
       "['prabhu', 'ayushi', 'pradeep', 'pravika', 'bhumika', 'divya', 'bhagyashree']"
      ]
     },
     "execution_count": 202,
     "metadata": {},
     "output_type": "execute_result"
    }
   ],
   "source": [
    "ls"
   ]
  },
  {
   "cell_type": "code",
   "execution_count": 208,
   "metadata": {},
   "outputs": [
    {
     "data": {
      "text/plain": [
       "array([34, 45, 39, 10, 32, 35, 35, 44, 14, 49], dtype=int32)"
      ]
     },
     "execution_count": 208,
     "metadata": {},
     "output_type": "execute_result"
    }
   ],
   "source": [
    "np.random.randint(1,50,10)  # in b/w 1 to 50 random 10 item"
   ]
  },
  {
   "cell_type": "code",
   "execution_count": 211,
   "metadata": {},
   "outputs": [
    {
     "data": {
      "text/plain": [
       "array([[10, 47,  9, 20, 30],\n",
       "       [44, 18, 14, 45,  9],\n",
       "       [ 7,  7, 16, 17, 36],\n",
       "       [12,  7, 32, 48, 40],\n",
       "       [ 1, 28, 17, 15, 29],\n",
       "       [34, 41, 17, 45, 25],\n",
       "       [26,  3, 28, 48, 22],\n",
       "       [42, 26, 34,  9,  1],\n",
       "       [26, 11, 21, 18, 28],\n",
       "       [33,  6,  2,  3,  2]], dtype=int32)"
      ]
     },
     "execution_count": 211,
     "metadata": {},
     "output_type": "execute_result"
    }
   ],
   "source": [
    "np.random.randint(1,50,(10,5))  "
   ]
  },
  {
   "cell_type": "code",
   "execution_count": 215,
   "metadata": {},
   "outputs": [
    {
     "data": {
      "text/plain": [
       "array([ 0,  1,  2,  3,  4,  5,  6,  7,  8,  9, 10, 11, 12, 13, 14, 15, 16,\n",
       "       17, 18, 19, 20, 21, 22, 23, 24, 25, 26, 27, 28, 29, 30, 31, 32, 33,\n",
       "       34, 35, 36, 37, 38, 39, 40, 41, 42, 43, 44, 45, 46, 47, 48, 49, 50,\n",
       "       51, 52, 53, 54, 55, 56, 57, 58, 59])"
      ]
     },
     "execution_count": 215,
     "metadata": {},
     "output_type": "execute_result"
    }
   ],
   "source": [
    "arr = np.arange(60)\n",
    "arr"
   ]
  },
  {
   "cell_type": "code",
   "execution_count": 221,
   "metadata": {},
   "outputs": [
    {
     "data": {
      "text/plain": [
       "array([[ 0,  1,  2,  3,  4],\n",
       "       [ 5,  6,  7,  8,  9],\n",
       "       [10, 11, 12, 13, 14],\n",
       "       [15, 16, 17, 18, 19],\n",
       "       [20, 21, 22, 23, 24],\n",
       "       [25, 26, 27, 28, 29],\n",
       "       [30, 31, 32, 33, 34],\n",
       "       [35, 36, 37, 38, 39],\n",
       "       [40, 41, 42, 43, 44],\n",
       "       [45, 46, 47, 48, 49],\n",
       "       [50, 51, 52, 53, 54],\n",
       "       [55, 56, 57, 58, 59]])"
      ]
     },
     "execution_count": 221,
     "metadata": {},
     "output_type": "execute_result"
    }
   ],
   "source": [
    "arr.reshape(12,5)"
   ]
  },
  {
   "cell_type": "code",
   "execution_count": 225,
   "metadata": {},
   "outputs": [
    {
     "data": {
      "text/plain": [
       "array([ 0,  1,  2,  3,  4,  5,  6,  7,  8,  9, 10, 11, 12, 13, 14, 15, 16,\n",
       "       17, 18, 19, 20, 21, 22, 23, 24, 25, 26, 27, 28, 29, 30, 31, 32, 33,\n",
       "       34, 35, 36, 37, 38, 39, 40, 41, 42, 43, 44, 45, 46, 47, 48, 49, 50,\n",
       "       51, 52, 53, 54, 55, 56, 57, 58, 59])"
      ]
     },
     "execution_count": 225,
     "metadata": {},
     "output_type": "execute_result"
    }
   ],
   "source": [
    "arr2 = np.resize(arr,(25,25))\n",
    "arr"
   ]
  },
  {
   "cell_type": "code",
   "execution_count": 226,
   "metadata": {},
   "outputs": [
    {
     "data": {
      "text/plain": [
       "(25, 25)"
      ]
     },
     "execution_count": 226,
     "metadata": {},
     "output_type": "execute_result"
    }
   ],
   "source": [
    "arr2.shape"
   ]
  },
  {
   "cell_type": "code",
   "execution_count": 227,
   "metadata": {},
   "outputs": [
    {
     "data": {
      "text/plain": [
       "2"
      ]
     },
     "execution_count": 227,
     "metadata": {},
     "output_type": "execute_result"
    }
   ],
   "source": [
    "arr2.ndim"
   ]
  },
  {
   "cell_type": "code",
   "execution_count": 229,
   "metadata": {},
   "outputs": [
    {
     "data": {
      "text/plain": [
       "625"
      ]
     },
     "execution_count": 229,
     "metadata": {},
     "output_type": "execute_result"
    }
   ],
   "source": [
    "25*25"
   ]
  },
  {
   "cell_type": "code",
   "execution_count": 228,
   "metadata": {},
   "outputs": [
    {
     "data": {
      "text/plain": [
       "array([ 0,  1,  2,  3,  4,  5,  6,  7,  8,  9, 10, 11, 12, 13, 14, 15, 16,\n",
       "       17, 18, 19, 20, 21, 22, 23, 24, 25, 26, 27, 28, 29, 30, 31, 32, 33,\n",
       "       34, 35, 36, 37, 38, 39, 40, 41, 42, 43, 44, 45, 46, 47, 48, 49, 50,\n",
       "       51, 52, 53, 54, 55, 56, 57, 58, 59,  0,  1,  2,  3,  4,  5,  6,  7,\n",
       "        8,  9, 10, 11, 12, 13, 14, 15, 16, 17, 18, 19, 20, 21, 22, 23, 24,\n",
       "       25, 26, 27, 28, 29, 30, 31, 32, 33, 34, 35, 36, 37, 38, 39, 40, 41,\n",
       "       42, 43, 44, 45, 46, 47, 48, 49, 50, 51, 52, 53, 54, 55, 56, 57, 58,\n",
       "       59,  0,  1,  2,  3,  4,  5,  6,  7,  8,  9, 10, 11, 12, 13, 14, 15,\n",
       "       16, 17, 18, 19, 20, 21, 22, 23, 24, 25, 26, 27, 28, 29, 30, 31, 32,\n",
       "       33, 34, 35, 36, 37, 38, 39, 40, 41, 42, 43, 44, 45, 46, 47, 48, 49,\n",
       "       50, 51, 52, 53, 54, 55, 56, 57, 58, 59,  0,  1,  2,  3,  4,  5,  6,\n",
       "        7,  8,  9, 10, 11, 12, 13, 14, 15, 16, 17, 18, 19, 20, 21, 22, 23,\n",
       "       24, 25, 26, 27, 28, 29, 30, 31, 32, 33, 34, 35, 36, 37, 38, 39, 40,\n",
       "       41, 42, 43, 44, 45, 46, 47, 48, 49, 50, 51, 52, 53, 54, 55, 56, 57,\n",
       "       58, 59,  0,  1,  2,  3,  4,  5,  6,  7,  8,  9, 10, 11, 12, 13, 14,\n",
       "       15, 16, 17, 18, 19, 20, 21, 22, 23, 24, 25, 26, 27, 28, 29, 30, 31,\n",
       "       32, 33, 34, 35, 36, 37, 38, 39, 40, 41, 42, 43, 44, 45, 46, 47, 48,\n",
       "       49, 50, 51, 52, 53, 54, 55, 56, 57, 58, 59,  0,  1,  2,  3,  4,  5,\n",
       "        6,  7,  8,  9, 10, 11, 12, 13, 14, 15, 16, 17, 18, 19, 20, 21, 22,\n",
       "       23, 24, 25, 26, 27, 28, 29, 30, 31, 32, 33, 34, 35, 36, 37, 38, 39,\n",
       "       40, 41, 42, 43, 44, 45, 46, 47, 48, 49, 50, 51, 52, 53, 54, 55, 56,\n",
       "       57, 58, 59,  0,  1,  2,  3,  4,  5,  6,  7,  8,  9, 10, 11, 12, 13,\n",
       "       14, 15, 16, 17, 18, 19, 20, 21, 22, 23, 24, 25, 26, 27, 28, 29, 30,\n",
       "       31, 32, 33, 34, 35, 36, 37, 38, 39, 40, 41, 42, 43, 44, 45, 46, 47,\n",
       "       48, 49, 50, 51, 52, 53, 54, 55, 56, 57, 58, 59,  0,  1,  2,  3,  4,\n",
       "        5,  6,  7,  8,  9, 10, 11, 12, 13, 14, 15, 16, 17, 18, 19, 20, 21,\n",
       "       22, 23, 24, 25, 26, 27, 28, 29, 30, 31, 32, 33, 34, 35, 36, 37, 38,\n",
       "       39, 40, 41, 42, 43, 44, 45, 46, 47, 48, 49, 50, 51, 52, 53, 54, 55,\n",
       "       56, 57, 58, 59,  0,  1,  2,  3,  4,  5,  6,  7,  8,  9, 10, 11, 12,\n",
       "       13, 14, 15, 16, 17, 18, 19, 20, 21, 22, 23, 24, 25, 26, 27, 28, 29,\n",
       "       30, 31, 32, 33, 34, 35, 36, 37, 38, 39, 40, 41, 42, 43, 44, 45, 46,\n",
       "       47, 48, 49, 50, 51, 52, 53, 54, 55, 56, 57, 58, 59,  0,  1,  2,  3,\n",
       "        4,  5,  6,  7,  8,  9, 10, 11, 12, 13, 14, 15, 16, 17, 18, 19, 20,\n",
       "       21, 22, 23, 24, 25, 26, 27, 28, 29, 30, 31, 32, 33, 34, 35, 36, 37,\n",
       "       38, 39, 40, 41, 42, 43, 44, 45, 46, 47, 48, 49, 50, 51, 52, 53, 54,\n",
       "       55, 56, 57, 58, 59,  0,  1,  2,  3,  4,  5,  6,  7,  8,  9, 10, 11,\n",
       "       12, 13, 14, 15, 16, 17, 18, 19, 20, 21, 22, 23, 24])"
      ]
     },
     "execution_count": 228,
     "metadata": {},
     "output_type": "execute_result"
    }
   ],
   "source": [
    "arr2.reshape(625,) # 2d"
   ]
  },
  {
   "cell_type": "code",
   "execution_count": 231,
   "metadata": {},
   "outputs": [
    {
     "data": {
      "text/plain": [
       "array([ 0,  1,  2,  3,  4,  5,  6,  7,  8,  9, 10, 11, 12, 13, 14, 15, 16,\n",
       "       17, 18, 19, 20, 21, 22, 23, 24, 25, 26, 27, 28, 29, 30, 31, 32, 33,\n",
       "       34, 35, 36, 37, 38, 39, 40, 41, 42, 43, 44, 45, 46, 47, 48, 49, 50,\n",
       "       51, 52, 53, 54, 55, 56, 57, 58, 59,  0,  1,  2,  3,  4,  5,  6,  7,\n",
       "        8,  9, 10, 11, 12, 13, 14, 15, 16, 17, 18, 19, 20, 21, 22, 23, 24,\n",
       "       25, 26, 27, 28, 29, 30, 31, 32, 33, 34, 35, 36, 37, 38, 39, 40, 41,\n",
       "       42, 43, 44, 45, 46, 47, 48, 49, 50, 51, 52, 53, 54, 55, 56, 57, 58,\n",
       "       59,  0,  1,  2,  3,  4,  5,  6,  7,  8,  9, 10, 11, 12, 13, 14, 15,\n",
       "       16, 17, 18, 19, 20, 21, 22, 23, 24, 25, 26, 27, 28, 29, 30, 31, 32,\n",
       "       33, 34, 35, 36, 37, 38, 39, 40, 41, 42, 43, 44, 45, 46, 47, 48, 49,\n",
       "       50, 51, 52, 53, 54, 55, 56, 57, 58, 59,  0,  1,  2,  3,  4,  5,  6,\n",
       "        7,  8,  9, 10, 11, 12, 13, 14, 15, 16, 17, 18, 19, 20, 21, 22, 23,\n",
       "       24, 25, 26, 27, 28, 29, 30, 31, 32, 33, 34, 35, 36, 37, 38, 39, 40,\n",
       "       41, 42, 43, 44, 45, 46, 47, 48, 49, 50, 51, 52, 53, 54, 55, 56, 57,\n",
       "       58, 59,  0,  1,  2,  3,  4,  5,  6,  7,  8,  9, 10, 11, 12, 13, 14,\n",
       "       15, 16, 17, 18, 19, 20, 21, 22, 23, 24, 25, 26, 27, 28, 29, 30, 31,\n",
       "       32, 33, 34, 35, 36, 37, 38, 39, 40, 41, 42, 43, 44, 45, 46, 47, 48,\n",
       "       49, 50, 51, 52, 53, 54, 55, 56, 57, 58, 59,  0,  1,  2,  3,  4,  5,\n",
       "        6,  7,  8,  9, 10, 11, 12, 13, 14, 15, 16, 17, 18, 19, 20, 21, 22,\n",
       "       23, 24, 25, 26, 27, 28, 29, 30, 31, 32, 33, 34, 35, 36, 37, 38, 39,\n",
       "       40, 41, 42, 43, 44, 45, 46, 47, 48, 49, 50, 51, 52, 53, 54, 55, 56,\n",
       "       57, 58, 59,  0,  1,  2,  3,  4,  5,  6,  7,  8,  9, 10, 11, 12, 13,\n",
       "       14, 15, 16, 17, 18, 19, 20, 21, 22, 23, 24, 25, 26, 27, 28, 29, 30,\n",
       "       31, 32, 33, 34, 35, 36, 37, 38, 39, 40, 41, 42, 43, 44, 45, 46, 47,\n",
       "       48, 49, 50, 51, 52, 53, 54, 55, 56, 57, 58, 59,  0,  1,  2,  3,  4,\n",
       "        5,  6,  7,  8,  9, 10, 11, 12, 13, 14, 15, 16, 17, 18, 19, 20, 21,\n",
       "       22, 23, 24, 25, 26, 27, 28, 29, 30, 31, 32, 33, 34, 35, 36, 37, 38,\n",
       "       39, 40, 41, 42, 43, 44, 45, 46, 47, 48, 49, 50, 51, 52, 53, 54, 55,\n",
       "       56, 57, 58, 59,  0,  1,  2,  3,  4,  5,  6,  7,  8,  9, 10, 11, 12,\n",
       "       13, 14, 15, 16, 17, 18, 19, 20, 21, 22, 23, 24, 25, 26, 27, 28, 29,\n",
       "       30, 31, 32, 33, 34, 35, 36, 37, 38, 39, 40, 41, 42, 43, 44, 45, 46,\n",
       "       47, 48, 49, 50, 51, 52, 53, 54, 55, 56, 57, 58, 59,  0,  1,  2,  3,\n",
       "        4,  5,  6,  7,  8,  9, 10, 11, 12, 13, 14, 15, 16, 17, 18, 19, 20,\n",
       "       21, 22, 23, 24, 25, 26, 27, 28, 29, 30, 31, 32, 33, 34, 35, 36, 37,\n",
       "       38, 39, 40, 41, 42, 43, 44, 45, 46, 47, 48, 49, 50, 51, 52, 53, 54,\n",
       "       55, 56, 57, 58, 59,  0,  1,  2,  3,  4,  5,  6,  7,  8,  9, 10, 11,\n",
       "       12, 13, 14, 15, 16, 17, 18, 19, 20, 21, 22, 23, 24])"
      ]
     },
     "execution_count": 231,
     "metadata": {},
     "output_type": "execute_result"
    }
   ],
   "source": [
    "arr2.ravel() #1d "
   ]
  },
  {
   "cell_type": "code",
   "execution_count": 233,
   "metadata": {},
   "outputs": [
    {
     "data": {
      "text/plain": [
       "array([ 0,  1,  2,  3,  4,  5,  6,  7,  8,  9, 10, 11, 12, 13, 14, 15, 16,\n",
       "       17, 18, 19, 20, 21, 22, 23, 24, 25, 26, 27, 28, 29, 30, 31, 32, 33,\n",
       "       34, 35, 36, 37, 38, 39, 40, 41, 42, 43, 44, 45, 46, 47, 48, 49, 50,\n",
       "       51, 52, 53, 54, 55, 56, 57, 58, 59,  0,  1,  2,  3,  4,  5,  6,  7,\n",
       "        8,  9, 10, 11, 12, 13, 14, 15, 16, 17, 18, 19, 20, 21, 22, 23, 24,\n",
       "       25, 26, 27, 28, 29, 30, 31, 32, 33, 34, 35, 36, 37, 38, 39, 40, 41,\n",
       "       42, 43, 44, 45, 46, 47, 48, 49, 50, 51, 52, 53, 54, 55, 56, 57, 58,\n",
       "       59,  0,  1,  2,  3,  4,  5,  6,  7,  8,  9, 10, 11, 12, 13, 14, 15,\n",
       "       16, 17, 18, 19, 20, 21, 22, 23, 24, 25, 26, 27, 28, 29, 30, 31, 32,\n",
       "       33, 34, 35, 36, 37, 38, 39, 40, 41, 42, 43, 44, 45, 46, 47, 48, 49,\n",
       "       50, 51, 52, 53, 54, 55, 56, 57, 58, 59,  0,  1,  2,  3,  4,  5,  6,\n",
       "        7,  8,  9, 10, 11, 12, 13, 14, 15, 16, 17, 18, 19, 20, 21, 22, 23,\n",
       "       24, 25, 26, 27, 28, 29, 30, 31, 32, 33, 34, 35, 36, 37, 38, 39, 40,\n",
       "       41, 42, 43, 44, 45, 46, 47, 48, 49, 50, 51, 52, 53, 54, 55, 56, 57,\n",
       "       58, 59,  0,  1,  2,  3,  4,  5,  6,  7,  8,  9, 10, 11, 12, 13, 14,\n",
       "       15, 16, 17, 18, 19, 20, 21, 22, 23, 24, 25, 26, 27, 28, 29, 30, 31,\n",
       "       32, 33, 34, 35, 36, 37, 38, 39, 40, 41, 42, 43, 44, 45, 46, 47, 48,\n",
       "       49, 50, 51, 52, 53, 54, 55, 56, 57, 58, 59,  0,  1,  2,  3,  4,  5,\n",
       "        6,  7,  8,  9, 10, 11, 12, 13, 14, 15, 16, 17, 18, 19, 20, 21, 22,\n",
       "       23, 24, 25, 26, 27, 28, 29, 30, 31, 32, 33, 34, 35, 36, 37, 38, 39,\n",
       "       40, 41, 42, 43, 44, 45, 46, 47, 48, 49, 50, 51, 52, 53, 54, 55, 56,\n",
       "       57, 58, 59,  0,  1,  2,  3,  4,  5,  6,  7,  8,  9, 10, 11, 12, 13,\n",
       "       14, 15, 16, 17, 18, 19, 20, 21, 22, 23, 24, 25, 26, 27, 28, 29, 30,\n",
       "       31, 32, 33, 34, 35, 36, 37, 38, 39, 40, 41, 42, 43, 44, 45, 46, 47,\n",
       "       48, 49, 50, 51, 52, 53, 54, 55, 56, 57, 58, 59,  0,  1,  2,  3,  4,\n",
       "        5,  6,  7,  8,  9, 10, 11, 12, 13, 14, 15, 16, 17, 18, 19, 20, 21,\n",
       "       22, 23, 24, 25, 26, 27, 28, 29, 30, 31, 32, 33, 34, 35, 36, 37, 38,\n",
       "       39, 40, 41, 42, 43, 44, 45, 46, 47, 48, 49, 50, 51, 52, 53, 54, 55,\n",
       "       56, 57, 58, 59,  0,  1,  2,  3,  4,  5,  6,  7,  8,  9, 10, 11, 12,\n",
       "       13, 14, 15, 16, 17, 18, 19, 20, 21, 22, 23, 24, 25, 26, 27, 28, 29,\n",
       "       30, 31, 32, 33, 34, 35, 36, 37, 38, 39, 40, 41, 42, 43, 44, 45, 46,\n",
       "       47, 48, 49, 50, 51, 52, 53, 54, 55, 56, 57, 58, 59,  0,  1,  2,  3,\n",
       "        4,  5,  6,  7,  8,  9, 10, 11, 12, 13, 14, 15, 16, 17, 18, 19, 20,\n",
       "       21, 22, 23, 24, 25, 26, 27, 28, 29, 30, 31, 32, 33, 34, 35, 36, 37,\n",
       "       38, 39, 40, 41, 42, 43, 44, 45, 46, 47, 48, 49, 50, 51, 52, 53, 54,\n",
       "       55, 56, 57, 58, 59,  0,  1,  2,  3,  4,  5,  6,  7,  8,  9, 10, 11,\n",
       "       12, 13, 14, 15, 16, 17, 18, 19, 20, 21, 22, 23, 24])"
      ]
     },
     "execution_count": 233,
     "metadata": {},
     "output_type": "execute_result"
    }
   ],
   "source": [
    "arr2.flatten() # flateen and revel both are same"
   ]
  },
  {
   "cell_type": "code",
   "execution_count": 1,
   "metadata": {},
   "outputs": [],
   "source": [
    "import numpy as np "
   ]
  },
  {
   "cell_type": "code",
   "execution_count": 3,
   "metadata": {},
   "outputs": [
    {
     "data": {
      "text/plain": [
       "array([15, 11, 10, 22, 47, 16, 43,  5, 31, 29, 27,  9, 28, 30, 35, 44, 27,\n",
       "       31,  5, 34, 44, 28,  6,  8, 21, 12, 35, 40, 29, 35, 12, 27, 12, 40,\n",
       "       22, 33, 27, 44, 29, 48,  8, 12, 42, 23, 23, 49, 42, 41,  8, 12, 27,\n",
       "       22, 17, 38, 21, 33,  7, 29, 20, 39, 19, 46, 15, 27, 37, 46, 34,  5,\n",
       "       46, 22, 38, 36, 25, 35, 29, 15, 11, 14, 11, 36, 29,  9, 22, 16, 25,\n",
       "       25, 26, 32, 16, 26, 24, 43, 24, 30, 19, 38, 36, 29,  7, 17],\n",
       "      dtype=int32)"
      ]
     },
     "execution_count": 3,
     "metadata": {},
     "output_type": "execute_result"
    }
   ],
   "source": [
    "arr = np.random.randint(5,50,100)\n",
    "arr"
   ]
  },
  {
   "cell_type": "code",
   "execution_count": 4,
   "metadata": {},
   "outputs": [
    {
     "data": {
      "text/plain": [
       "np.float64(26.04)"
      ]
     },
     "execution_count": 4,
     "metadata": {},
     "output_type": "execute_result"
    }
   ],
   "source": [
    "arr.mean()   # mean is average "
   ]
  },
  {
   "cell_type": "code",
   "execution_count": 5,
   "metadata": {},
   "outputs": [
    {
     "data": {
      "text/plain": [
       "array([[47, 33, 15],\n",
       "       [18, 18, 32],\n",
       "       [44, 18, 17],\n",
       "       [10, 10,  9]], dtype=int32)"
      ]
     },
     "execution_count": 5,
     "metadata": {},
     "output_type": "execute_result"
    }
   ],
   "source": [
    "arr = np.random.randint(5,50,(4,3))\n",
    "arr"
   ]
  },
  {
   "cell_type": "code",
   "execution_count": 6,
   "metadata": {},
   "outputs": [
    {
     "data": {
      "text/plain": [
       "(4, 3)"
      ]
     },
     "execution_count": 6,
     "metadata": {},
     "output_type": "execute_result"
    }
   ],
   "source": [
    "arr.shape"
   ]
  },
  {
   "cell_type": "code",
   "execution_count": 9,
   "metadata": {},
   "outputs": [
    {
     "data": {
      "text/plain": [
       "(3, 4)"
      ]
     },
     "execution_count": 9,
     "metadata": {},
     "output_type": "execute_result"
    }
   ],
   "source": [
    "np.transpose(arr).shape"
   ]
  },
  {
   "cell_type": "code",
   "execution_count": 10,
   "metadata": {},
   "outputs": [
    {
     "data": {
      "text/plain": [
       "array([[47, 18, 44, 10],\n",
       "       [33, 18, 18, 10],\n",
       "       [15, 32, 17,  9]], dtype=int32)"
      ]
     },
     "execution_count": 10,
     "metadata": {},
     "output_type": "execute_result"
    }
   ],
   "source": [
    "arr.T"
   ]
  },
  {
   "cell_type": "code",
   "execution_count": 67,
   "metadata": {},
   "outputs": [
    {
     "data": {
      "text/plain": [
       "array([[ 9,  2,  2, 10,  6],\n",
       "       [ 2,  5,  2,  8,  4],\n",
       "       [ 6,  5,  5,  7,  3],\n",
       "       [ 3,  7,  9,  3,  5],\n",
       "       [11,  2,  3,  4,  2],\n",
       "       [ 5, 10,  8,  4,  5],\n",
       "       [ 6,  8,  4,  8,  6],\n",
       "       [ 5,  3,  2,  9,  7],\n",
       "       [ 9, 11,  3,  2,  8],\n",
       "       [ 7, 11,  3,  8,  6]], dtype=int32)"
      ]
     },
     "execution_count": 67,
     "metadata": {},
     "output_type": "execute_result"
    }
   ],
   "source": [
    "\n",
    "arr = np.random.randint(2,12,(10,5))\n",
    "arr"
   ]
  },
  {
   "cell_type": "code",
   "execution_count": 21,
   "metadata": {},
   "outputs": [
    {
     "data": {
      "text/plain": [
       "array([ 3, 10,  5,  8,  3], dtype=int32)"
      ]
     },
     "execution_count": 21,
     "metadata": {},
     "output_type": "execute_result"
    }
   ],
   "source": [
    "arr[-1]"
   ]
  },
  {
   "cell_type": "code",
   "execution_count": 26,
   "metadata": {},
   "outputs": [
    {
     "data": {
      "text/plain": [
       "array([[ 2, 11, 10,  6, 10],\n",
       "       [ 2,  4,  5,  4,  5],\n",
       "       [ 3, 10,  5,  8,  3]], dtype=int32)"
      ]
     },
     "execution_count": 26,
     "metadata": {},
     "output_type": "execute_result"
    }
   ],
   "source": [
    "arr[7:]"
   ]
  },
  {
   "cell_type": "code",
   "execution_count": 29,
   "metadata": {},
   "outputs": [
    {
     "data": {
      "text/plain": [
       "array([[11,  4],\n",
       "       [ 3,  8],\n",
       "       [ 6, 11],\n",
       "       [ 9,  7],\n",
       "       [ 8,  2],\n",
       "       [ 6,  7],\n",
       "       [ 3, 10],\n",
       "       [ 2, 11],\n",
       "       [ 2,  4],\n",
       "       [ 3, 10]], dtype=int32)"
      ]
     },
     "execution_count": 29,
     "metadata": {},
     "output_type": "execute_result"
    }
   ],
   "source": [
    "arr[0:,0:2]"
   ]
  },
  {
   "cell_type": "code",
   "execution_count": 30,
   "metadata": {},
   "outputs": [
    {
     "data": {
      "text/plain": [
       "array([[5, 6, 6],\n",
       "       [5, 9, 2],\n",
       "       [6, 9, 9]], dtype=int32)"
      ]
     },
     "execution_count": 30,
     "metadata": {},
     "output_type": "execute_result"
    }
   ],
   "source": [
    "arr[3:6,-3:]"
   ]
  },
  {
   "cell_type": "code",
   "execution_count": 32,
   "metadata": {},
   "outputs": [
    {
     "data": {
      "text/plain": [
       "array([[10, 11,  4],\n",
       "       [ 5,  7,  2],\n",
       "       [ 5,  9,  2],\n",
       "       [ 2,  7,  6],\n",
       "       [ 5,  4,  5]], dtype=int32)"
      ]
     },
     "execution_count": 32,
     "metadata": {},
     "output_type": "execute_result"
    }
   ],
   "source": [
    "arr[0:10:2,2:]"
   ]
  },
  {
   "cell_type": "code",
   "execution_count": 34,
   "metadata": {},
   "outputs": [
    {
     "data": {
      "text/plain": [
       "array([[[32, 23, 41, 29, 42],\n",
       "        [ 5, 42, 15,  3, 30],\n",
       "        [ 8, 40, 32, 15, 38],\n",
       "        [43, 43, 39, 22, 42],\n",
       "        [24, 28, 28, 48, 30],\n",
       "        [ 8, 46, 33,  4, 20],\n",
       "        [44, 30, 34,  9, 14],\n",
       "        [20, 29, 13, 25, 39],\n",
       "        [13, 30, 36,  5, 16],\n",
       "        [24, 22, 48,  8, 46]],\n",
       "\n",
       "       [[18, 46, 37, 36,  7],\n",
       "        [17, 31,  7, 41, 44],\n",
       "        [20, 33, 20, 39, 36],\n",
       "        [46, 34, 26, 37, 39],\n",
       "        [31,  5, 27, 27, 24],\n",
       "        [12, 30, 28, 36, 45],\n",
       "        [23, 11, 48, 19, 17],\n",
       "        [27, 47, 47,  2, 23],\n",
       "        [14, 47, 39, 21, 40],\n",
       "        [41,  4, 21, 36, 25]],\n",
       "\n",
       "       [[22, 49, 20, 35, 28],\n",
       "        [42, 41,  9, 36, 10],\n",
       "        [42, 18,  2, 47, 43],\n",
       "        [17, 31, 35, 15,  8],\n",
       "        [15, 48,  7, 25, 39],\n",
       "        [48,  9,  2, 32, 32],\n",
       "        [44,  3, 19, 18, 35],\n",
       "        [19, 24, 28,  9,  8],\n",
       "        [14,  4, 44, 46, 21],\n",
       "        [20, 32, 33, 43, 40]],\n",
       "\n",
       "       [[10, 19, 10, 45, 36],\n",
       "        [31,  5,  4,  9, 22],\n",
       "        [48, 39, 13,  6, 24],\n",
       "        [27, 35, 30, 11,  8],\n",
       "        [39, 10, 47, 10, 47],\n",
       "        [14, 46, 32,  7, 15],\n",
       "        [36, 23, 20, 49, 35],\n",
       "        [13,  4, 46, 23,  2],\n",
       "        [ 3, 38, 12, 10, 22],\n",
       "        [18, 25, 10,  6, 16]],\n",
       "\n",
       "       [[16, 23, 48, 41, 27],\n",
       "        [36, 10, 43,  7, 38],\n",
       "        [35, 34, 24, 10, 40],\n",
       "        [29, 46, 43, 47, 47],\n",
       "        [13, 47, 22, 33,  6],\n",
       "        [38, 22, 46, 41, 35],\n",
       "        [15, 45, 33, 41, 21],\n",
       "        [34, 18, 37, 38, 46],\n",
       "        [45,  4,  3, 25, 27],\n",
       "        [31, 38, 21, 30, 36]]], dtype=int32)"
      ]
     },
     "execution_count": 34,
     "metadata": {},
     "output_type": "execute_result"
    }
   ],
   "source": [
    "arr = np.random.randint(2,50,(5,10,5))\n",
    "arr"
   ]
  },
  {
   "cell_type": "code",
   "execution_count": 35,
   "metadata": {},
   "outputs": [
    {
     "data": {
      "text/plain": [
       "(5, 10, 5)"
      ]
     },
     "execution_count": 35,
     "metadata": {},
     "output_type": "execute_result"
    }
   ],
   "source": [
    "arr.shape"
   ]
  },
  {
   "cell_type": "code",
   "execution_count": 36,
   "metadata": {},
   "outputs": [
    {
     "data": {
      "text/plain": [
       "3"
      ]
     },
     "execution_count": 36,
     "metadata": {},
     "output_type": "execute_result"
    }
   ],
   "source": [
    "arr.ndim"
   ]
  },
  {
   "cell_type": "code",
   "execution_count": 37,
   "metadata": {},
   "outputs": [
    {
     "data": {
      "text/plain": [
       "array([[32, 23, 41, 29, 42],\n",
       "       [ 5, 42, 15,  3, 30],\n",
       "       [ 8, 40, 32, 15, 38],\n",
       "       [43, 43, 39, 22, 42],\n",
       "       [24, 28, 28, 48, 30],\n",
       "       [ 8, 46, 33,  4, 20],\n",
       "       [44, 30, 34,  9, 14],\n",
       "       [20, 29, 13, 25, 39],\n",
       "       [13, 30, 36,  5, 16],\n",
       "       [24, 22, 48,  8, 46]], dtype=int32)"
      ]
     },
     "execution_count": 37,
     "metadata": {},
     "output_type": "execute_result"
    }
   ],
   "source": [
    "arr[0]"
   ]
  },
  {
   "cell_type": "code",
   "execution_count": 38,
   "metadata": {},
   "outputs": [
    {
     "data": {
      "text/plain": [
       "array([[18, 46, 37, 36,  7],\n",
       "       [17, 31,  7, 41, 44],\n",
       "       [20, 33, 20, 39, 36],\n",
       "       [46, 34, 26, 37, 39],\n",
       "       [31,  5, 27, 27, 24],\n",
       "       [12, 30, 28, 36, 45],\n",
       "       [23, 11, 48, 19, 17],\n",
       "       [27, 47, 47,  2, 23],\n",
       "       [14, 47, 39, 21, 40],\n",
       "       [41,  4, 21, 36, 25]], dtype=int32)"
      ]
     },
     "execution_count": 38,
     "metadata": {},
     "output_type": "execute_result"
    }
   ],
   "source": [
    "arr[1]"
   ]
  },
  {
   "cell_type": "code",
   "execution_count": 39,
   "metadata": {},
   "outputs": [
    {
     "data": {
      "text/plain": [
       "array([[22, 49, 20, 35, 28],\n",
       "       [42, 41,  9, 36, 10],\n",
       "       [42, 18,  2, 47, 43],\n",
       "       [17, 31, 35, 15,  8],\n",
       "       [15, 48,  7, 25, 39],\n",
       "       [48,  9,  2, 32, 32],\n",
       "       [44,  3, 19, 18, 35],\n",
       "       [19, 24, 28,  9,  8],\n",
       "       [14,  4, 44, 46, 21],\n",
       "       [20, 32, 33, 43, 40]], dtype=int32)"
      ]
     },
     "execution_count": 39,
     "metadata": {},
     "output_type": "execute_result"
    }
   ],
   "source": [
    "arr[2]"
   ]
  },
  {
   "cell_type": "code",
   "execution_count": 40,
   "metadata": {},
   "outputs": [
    {
     "data": {
      "text/plain": [
       "array([[10, 19, 10, 45, 36],\n",
       "       [31,  5,  4,  9, 22],\n",
       "       [48, 39, 13,  6, 24],\n",
       "       [27, 35, 30, 11,  8],\n",
       "       [39, 10, 47, 10, 47],\n",
       "       [14, 46, 32,  7, 15],\n",
       "       [36, 23, 20, 49, 35],\n",
       "       [13,  4, 46, 23,  2],\n",
       "       [ 3, 38, 12, 10, 22],\n",
       "       [18, 25, 10,  6, 16]], dtype=int32)"
      ]
     },
     "execution_count": 40,
     "metadata": {},
     "output_type": "execute_result"
    }
   ],
   "source": [
    "arr[3]"
   ]
  },
  {
   "cell_type": "code",
   "execution_count": 41,
   "metadata": {},
   "outputs": [
    {
     "data": {
      "text/plain": [
       "array([[16, 23, 48, 41, 27],\n",
       "       [36, 10, 43,  7, 38],\n",
       "       [35, 34, 24, 10, 40],\n",
       "       [29, 46, 43, 47, 47],\n",
       "       [13, 47, 22, 33,  6],\n",
       "       [38, 22, 46, 41, 35],\n",
       "       [15, 45, 33, 41, 21],\n",
       "       [34, 18, 37, 38, 46],\n",
       "       [45,  4,  3, 25, 27],\n",
       "       [31, 38, 21, 30, 36]], dtype=int32)"
      ]
     },
     "execution_count": 41,
     "metadata": {},
     "output_type": "execute_result"
    }
   ],
   "source": [
    "arr[4]"
   ]
  },
  {
   "cell_type": "code",
   "execution_count": 46,
   "metadata": {},
   "outputs": [
    {
     "data": {
      "text/plain": [
       "array([[13, 25, 39]], dtype=int32)"
      ]
     },
     "execution_count": 46,
     "metadata": {},
     "output_type": "execute_result"
    }
   ],
   "source": [
    "arr[0][7:8,2:]"
   ]
  },
  {
   "cell_type": "code",
   "execution_count": 52,
   "metadata": {},
   "outputs": [
    {
     "data": {
      "text/plain": [
       "array([[[24, 22, 48,  8, 46]],\n",
       "\n",
       "       [[41,  4, 21, 36, 25]],\n",
       "\n",
       "       [[20, 32, 33, 43, 40]],\n",
       "\n",
       "       [[18, 25, 10,  6, 16]],\n",
       "\n",
       "       [[31, 38, 21, 30, 36]]], dtype=int32)"
      ]
     },
     "execution_count": 52,
     "metadata": {},
     "output_type": "execute_result"
    }
   ],
   "source": [
    "arr[0:,9:,0:]"
   ]
  },
  {
   "cell_type": "code",
   "execution_count": 62,
   "metadata": {},
   "outputs": [
    {
     "data": {
      "text/plain": [
       "array([7, 5, 9])"
      ]
     },
     "execution_count": 62,
     "metadata": {},
     "output_type": "execute_result"
    }
   ],
   "source": [
    "arr = np.array([7,5,9])\n",
    "arr"
   ]
  },
  {
   "cell_type": "code",
   "execution_count": 55,
   "metadata": {},
   "outputs": [
    {
     "data": {
      "text/plain": [
       "np.int64(9)"
      ]
     },
     "execution_count": 55,
     "metadata": {},
     "output_type": "execute_result"
    }
   ],
   "source": [
    "arr.max()"
   ]
  },
  {
   "cell_type": "code",
   "execution_count": 56,
   "metadata": {},
   "outputs": [
    {
     "data": {
      "text/plain": [
       "np.int64(2)"
      ]
     },
     "execution_count": 56,
     "metadata": {},
     "output_type": "execute_result"
    }
   ],
   "source": [
    "arr.argmax() # indexing of max no."
   ]
  },
  {
   "cell_type": "code",
   "execution_count": 57,
   "metadata": {},
   "outputs": [
    {
     "data": {
      "text/plain": [
       "np.int64(1)"
      ]
     },
     "execution_count": 57,
     "metadata": {},
     "output_type": "execute_result"
    }
   ],
   "source": [
    "arr.argmin()"
   ]
  },
  {
   "cell_type": "code",
   "execution_count": 59,
   "metadata": {},
   "outputs": [],
   "source": [
    "arr.sort()"
   ]
  },
  {
   "cell_type": "code",
   "execution_count": 60,
   "metadata": {},
   "outputs": [
    {
     "data": {
      "text/plain": [
       "array([5, 7, 9])"
      ]
     },
     "execution_count": 60,
     "metadata": {},
     "output_type": "execute_result"
    }
   ],
   "source": [
    "arr"
   ]
  },
  {
   "cell_type": "code",
   "execution_count": 63,
   "metadata": {},
   "outputs": [
    {
     "data": {
      "text/plain": [
       "array([9, 5, 7])"
      ]
     },
     "execution_count": 63,
     "metadata": {},
     "output_type": "execute_result"
    }
   ],
   "source": [
    "arr[::-1]"
   ]
  },
  {
   "cell_type": "code",
   "execution_count": 64,
   "metadata": {},
   "outputs": [
    {
     "data": {
      "text/plain": [
       "array([1, 0, 2])"
      ]
     },
     "execution_count": 64,
     "metadata": {},
     "output_type": "execute_result"
    }
   ],
   "source": [
    "arr.argsort()    # 5    7    9"
   ]
  },
  {
   "cell_type": "code",
   "execution_count": 65,
   "metadata": {},
   "outputs": [
    {
     "data": {
      "text/plain": [
       "array([7, 5, 9])"
      ]
     },
     "execution_count": 65,
     "metadata": {},
     "output_type": "execute_result"
    }
   ],
   "source": [
    "arr"
   ]
  },
  {
   "cell_type": "code",
   "execution_count": 68,
   "metadata": {},
   "outputs": [
    {
     "data": {
      "text/plain": [
       "array([[ 5,  8,  8,  4,  7],\n",
       "       [ 7,  5,  7,  4,  7],\n",
       "       [ 6,  7,  6,  6,  8],\n",
       "       [10,  8,  8,  7,  3],\n",
       "       [10,  3,  3,  6,  5],\n",
       "       [ 8,  7,  4,  3,  7],\n",
       "       [ 4,  4,  5,  8,  8],\n",
       "       [ 8,  9,  2,  4,  6],\n",
       "       [ 8,  5, 10, 11,  7],\n",
       "       [ 9,  6,  2,  4,  4]], dtype=int32)"
      ]
     },
     "execution_count": 68,
     "metadata": {},
     "output_type": "execute_result"
    }
   ],
   "source": [
    "arr = np.random.randint(2,12,(10,5))\n",
    "arr"
   ]
  },
  {
   "cell_type": "code",
   "execution_count": 69,
   "metadata": {},
   "outputs": [
    {
     "data": {
      "text/plain": [
       "array([ 2,  3,  4,  5,  6,  7,  8,  9, 10, 11], dtype=int32)"
      ]
     },
     "execution_count": 69,
     "metadata": {},
     "output_type": "execute_result"
    }
   ],
   "source": [
    "np.unique(arr)"
   ]
  },
  {
   "cell_type": "code",
   "execution_count": 70,
   "metadata": {},
   "outputs": [
    {
     "data": {
      "text/plain": [
       "array([[ 5,  8,  8,  4,  7],\n",
       "       [ 7,  5,  7,  4,  7],\n",
       "       [ 6,  7,  6,  6,  8],\n",
       "       [10,  8,  8,  7,  3],\n",
       "       [10,  3,  3,  6,  5],\n",
       "       [ 8,  7,  4,  3,  7],\n",
       "       [ 4,  4,  5,  8,  8],\n",
       "       [ 8,  9,  2,  4,  6],\n",
       "       [ 8,  5, 10, 11,  7],\n",
       "       [ 9,  6,  2,  4,  4]], dtype=int32)"
      ]
     },
     "execution_count": 70,
     "metadata": {},
     "output_type": "execute_result"
    }
   ],
   "source": [
    "np.random.randint(2,250,200)\n",
    "arr"
   ]
  },
  {
   "cell_type": "code",
   "execution_count": 72,
   "metadata": {},
   "outputs": [
    {
     "data": {
      "text/plain": [
       "np.float64(6.5)"
      ]
     },
     "execution_count": 72,
     "metadata": {},
     "output_type": "execute_result"
    }
   ],
   "source": [
    "np.median(arr)"
   ]
  },
  {
   "cell_type": "code",
   "execution_count": 75,
   "metadata": {},
   "outputs": [
    {
     "data": {
      "text/plain": [
       "np.float64(2.2026347858871205)"
      ]
     },
     "execution_count": 75,
     "metadata": {},
     "output_type": "execute_result"
    }
   ],
   "source": [
    "arr.std()"
   ]
  },
  {
   "cell_type": "code",
   "execution_count": 76,
   "metadata": {},
   "outputs": [
    {
     "data": {
      "text/plain": [
       "np.float64(5.0)"
      ]
     },
     "execution_count": 76,
     "metadata": {},
     "output_type": "execute_result"
    }
   ],
   "source": [
    "np.sqrt(25)"
   ]
  },
  {
   "cell_type": "code",
   "execution_count": 78,
   "metadata": {},
   "outputs": [
    {
     "data": {
      "text/plain": [
       "np.float64(4.851600000000001)"
      ]
     },
     "execution_count": 78,
     "metadata": {},
     "output_type": "execute_result"
    }
   ],
   "source": [
    "arr.var()"
   ]
  },
  {
   "cell_type": "code",
   "execution_count": null,
   "metadata": {},
   "outputs": [],
   "source": [
    "#numpy"
   ]
  },
  {
   "cell_type": "code",
   "execution_count": 79,
   "metadata": {},
   "outputs": [
    {
     "name": "stdout",
     "output_type": "stream",
     "text": [
      "Defaulting to user installation because normal site-packages is not writeable\n",
      "Collecting pandas\n",
      "  Downloading pandas-2.2.2-cp312-cp312-win_amd64.whl.metadata (19 kB)\n",
      "Requirement already satisfied: numpy>=1.26.0 in c:\\users\\bhumi\\appdata\\roaming\\python\\python312\\site-packages (from pandas) (2.0.0)\n",
      "Requirement already satisfied: python-dateutil>=2.8.2 in c:\\users\\bhumi\\appdata\\roaming\\python\\python312\\site-packages (from pandas) (2.9.0.post0)\n",
      "Collecting pytz>=2020.1 (from pandas)\n",
      "  Downloading pytz-2024.1-py2.py3-none-any.whl.metadata (22 kB)\n",
      "Collecting tzdata>=2022.7 (from pandas)\n",
      "  Downloading tzdata-2024.1-py2.py3-none-any.whl.metadata (1.4 kB)\n",
      "Requirement already satisfied: six>=1.5 in c:\\users\\bhumi\\appdata\\roaming\\python\\python312\\site-packages (from python-dateutil>=2.8.2->pandas) (1.16.0)\n",
      "Downloading pandas-2.2.2-cp312-cp312-win_amd64.whl (11.5 MB)\n",
      "   ---------------------------------------- 0.0/11.5 MB ? eta -:--:--\n",
      "   ---------------------------------------- 0.0/11.5 MB 660.6 kB/s eta 0:00:18\n",
      "   ---------------------------------------- 0.0/11.5 MB 487.6 kB/s eta 0:00:24\n",
      "   ---------------------------------------- 0.1/11.5 MB 737.3 kB/s eta 0:00:16\n",
      "    --------------------------------------- 0.2/11.5 MB 984.6 kB/s eta 0:00:12\n",
      "    --------------------------------------- 0.2/11.5 MB 908.0 kB/s eta 0:00:13\n",
      "    --------------------------------------- 0.3/11.5 MB 1.1 MB/s eta 0:00:11\n",
      "   - -------------------------------------- 0.3/11.5 MB 1.1 MB/s eta 0:00:11\n",
      "   - -------------------------------------- 0.3/11.5 MB 1.1 MB/s eta 0:00:11\n",
      "   - -------------------------------------- 0.4/11.5 MB 969.8 kB/s eta 0:00:12\n",
      "   - -------------------------------------- 0.4/11.5 MB 946.4 kB/s eta 0:00:12\n",
      "   - -------------------------------------- 0.5/11.5 MB 982.5 kB/s eta 0:00:12\n",
      "   - -------------------------------------- 0.5/11.5 MB 962.6 kB/s eta 0:00:12\n",
      "   - -------------------------------------- 0.5/11.5 MB 954.7 kB/s eta 0:00:12\n",
      "   - -------------------------------------- 0.6/11.5 MB 974.4 kB/s eta 0:00:12\n",
      "   -- ------------------------------------- 0.6/11.5 MB 999.4 kB/s eta 0:00:11\n",
      "   -- ------------------------------------- 0.7/11.5 MB 975.2 kB/s eta 0:00:12\n",
      "   -- ------------------------------------- 0.7/11.5 MB 934.7 kB/s eta 0:00:12\n",
      "   -- ------------------------------------- 0.8/11.5 MB 989.2 kB/s eta 0:00:11\n",
      "   -- ------------------------------------- 0.8/11.5 MB 995.0 kB/s eta 0:00:11\n",
      "   -- ------------------------------------- 0.8/11.5 MB 995.0 kB/s eta 0:00:11\n",
      "   -- ------------------------------------- 0.8/11.5 MB 995.0 kB/s eta 0:00:11\n",
      "   -- ------------------------------------- 0.8/11.5 MB 995.0 kB/s eta 0:00:11\n",
      "   --- ------------------------------------ 1.0/11.5 MB 1.0 MB/s eta 0:00:11\n",
      "   --- ------------------------------------ 1.1/11.5 MB 1.0 MB/s eta 0:00:11\n",
      "   --- ------------------------------------ 1.1/11.5 MB 1.0 MB/s eta 0:00:11\n",
      "   --- ------------------------------------ 1.1/11.5 MB 1.0 MB/s eta 0:00:11\n",
      "   ---- ----------------------------------- 1.2/11.5 MB 1.0 MB/s eta 0:00:11\n",
      "   ---- ----------------------------------- 1.2/11.5 MB 1.0 MB/s eta 0:00:11\n",
      "   ---- ----------------------------------- 1.3/11.5 MB 1.0 MB/s eta 0:00:11\n",
      "   ---- ----------------------------------- 1.3/11.5 MB 1.0 MB/s eta 0:00:11\n",
      "   ---- ----------------------------------- 1.3/11.5 MB 1.0 MB/s eta 0:00:11\n",
      "   ---- ----------------------------------- 1.3/11.5 MB 1.0 MB/s eta 0:00:11\n",
      "   ---- ----------------------------------- 1.3/11.5 MB 1.0 MB/s eta 0:00:11\n",
      "   ---- ----------------------------------- 1.4/11.5 MB 947.1 kB/s eta 0:00:11\n",
      "   ---- ----------------------------------- 1.4/11.5 MB 947.1 kB/s eta 0:00:11\n",
      "   ----- ---------------------------------- 1.5/11.5 MB 966.4 kB/s eta 0:00:11\n",
      "   ----- ---------------------------------- 1.6/11.5 MB 979.9 kB/s eta 0:00:11\n",
      "   ----- ---------------------------------- 1.6/11.5 MB 979.9 kB/s eta 0:00:11\n",
      "   ----- ---------------------------------- 1.6/11.5 MB 922.1 kB/s eta 0:00:11\n",
      "   ----- ---------------------------------- 1.6/11.5 MB 938.0 kB/s eta 0:00:11\n",
      "   ----- ---------------------------------- 1.6/11.5 MB 939.0 kB/s eta 0:00:11\n",
      "   ----- ---------------------------------- 1.6/11.5 MB 911.7 kB/s eta 0:00:11\n",
      "   ----- ---------------------------------- 1.7/11.5 MB 918.7 kB/s eta 0:00:11\n",
      "   ------ --------------------------------- 1.8/11.5 MB 936.4 kB/s eta 0:00:11\n",
      "   ------ --------------------------------- 1.8/11.5 MB 939.3 kB/s eta 0:00:11\n",
      "   ------ --------------------------------- 1.8/11.5 MB 917.6 kB/s eta 0:00:11\n",
      "   ------ --------------------------------- 1.9/11.5 MB 934.2 kB/s eta 0:00:11\n",
      "   ------ --------------------------------- 1.9/11.5 MB 920.4 kB/s eta 0:00:11\n",
      "   ------ --------------------------------- 1.9/11.5 MB 931.4 kB/s eta 0:00:11\n",
      "   ------ --------------------------------- 1.9/11.5 MB 931.4 kB/s eta 0:00:11\n",
      "   ------ --------------------------------- 1.9/11.5 MB 931.4 kB/s eta 0:00:11\n",
      "   ------ --------------------------------- 1.9/11.5 MB 931.4 kB/s eta 0:00:11\n",
      "   ------ --------------------------------- 1.9/11.5 MB 931.4 kB/s eta 0:00:11\n",
      "   ------- -------------------------------- 2.1/11.5 MB 903.8 kB/s eta 0:00:11\n",
      "   ------- -------------------------------- 2.1/11.5 MB 903.8 kB/s eta 0:00:11\n",
      "   ------- -------------------------------- 2.2/11.5 MB 918.4 kB/s eta 0:00:11\n",
      "   ------- -------------------------------- 2.2/11.5 MB 920.8 kB/s eta 0:00:11\n",
      "   ------- -------------------------------- 2.2/11.5 MB 920.8 kB/s eta 0:00:11\n",
      "   ------- -------------------------------- 2.2/11.5 MB 920.8 kB/s eta 0:00:11\n",
      "   ------- -------------------------------- 2.2/11.5 MB 920.8 kB/s eta 0:00:11\n",
      "   -------- ------------------------------- 2.3/11.5 MB 892.2 kB/s eta 0:00:11\n",
      "   -------- ------------------------------- 2.3/11.5 MB 894.9 kB/s eta 0:00:11\n",
      "   -------- ------------------------------- 2.4/11.5 MB 883.8 kB/s eta 0:00:11\n",
      "   -------- ------------------------------- 2.4/11.5 MB 881.3 kB/s eta 0:00:11\n",
      "   -------- ------------------------------- 2.4/11.5 MB 878.8 kB/s eta 0:00:11\n",
      "   -------- ------------------------------- 2.5/11.5 MB 880.0 kB/s eta 0:00:11\n",
      "   -------- ------------------------------- 2.5/11.5 MB 880.0 kB/s eta 0:00:11\n",
      "   -------- ------------------------------- 2.5/11.5 MB 880.0 kB/s eta 0:00:11\n",
      "   -------- ------------------------------- 2.5/11.5 MB 880.0 kB/s eta 0:00:11\n",
      "   -------- ------------------------------- 2.5/11.5 MB 880.0 kB/s eta 0:00:11\n",
      "   -------- ------------------------------- 2.5/11.5 MB 880.0 kB/s eta 0:00:11\n",
      "   -------- ------------------------------- 2.5/11.5 MB 880.0 kB/s eta 0:00:11\n",
      "   -------- ------------------------------- 2.5/11.5 MB 880.0 kB/s eta 0:00:11\n",
      "   -------- ------------------------------- 2.5/11.5 MB 797.1 kB/s eta 0:00:12\n",
      "   -------- ------------------------------- 2.5/11.5 MB 797.1 kB/s eta 0:00:12\n",
      "   -------- ------------------------------- 2.5/11.5 MB 782.6 kB/s eta 0:00:12\n",
      "   -------- ------------------------------- 2.5/11.5 MB 782.6 kB/s eta 0:00:12\n",
      "   -------- ------------------------------- 2.5/11.5 MB 782.6 kB/s eta 0:00:12\n",
      "   -------- ------------------------------- 2.5/11.5 MB 782.6 kB/s eta 0:00:12\n",
      "   -------- ------------------------------- 2.5/11.5 MB 782.6 kB/s eta 0:00:12\n",
      "   -------- ------------------------------- 2.5/11.5 MB 782.6 kB/s eta 0:00:12\n",
      "   -------- ------------------------------- 2.5/11.5 MB 732.1 kB/s eta 0:00:13\n",
      "   -------- ------------------------------- 2.5/11.5 MB 732.1 kB/s eta 0:00:13\n",
      "   -------- ------------------------------- 2.5/11.5 MB 732.1 kB/s eta 0:00:13\n",
      "   -------- ------------------------------- 2.6/11.5 MB 709.4 kB/s eta 0:00:13\n",
      "   -------- ------------------------------- 2.6/11.5 MB 712.2 kB/s eta 0:00:13\n",
      "   --------- ------------------------------ 2.6/11.5 MB 705.5 kB/s eta 0:00:13\n",
      "   --------- ------------------------------ 2.6/11.5 MB 705.5 kB/s eta 0:00:13\n",
      "   --------- ------------------------------ 2.6/11.5 MB 696.6 kB/s eta 0:00:13\n",
      "   --------- ------------------------------ 2.6/11.5 MB 693.3 kB/s eta 0:00:13\n",
      "   --------- ------------------------------ 2.6/11.5 MB 693.3 kB/s eta 0:00:13\n",
      "   --------- ------------------------------ 2.6/11.5 MB 693.3 kB/s eta 0:00:13\n",
      "   --------- ------------------------------ 2.6/11.5 MB 693.3 kB/s eta 0:00:13\n",
      "   --------- ------------------------------ 2.6/11.5 MB 693.3 kB/s eta 0:00:13\n",
      "   --------- ------------------------------ 2.6/11.5 MB 693.3 kB/s eta 0:00:13\n",
      "   --------- ------------------------------ 2.7/11.5 MB 655.3 kB/s eta 0:00:14\n",
      "   --------- ------------------------------ 2.7/11.5 MB 657.8 kB/s eta 0:00:14\n",
      "   --------- ------------------------------ 2.7/11.5 MB 650.4 kB/s eta 0:00:14\n",
      "   --------- ------------------------------ 2.7/11.5 MB 650.4 kB/s eta 0:00:14\n",
      "   --------- ------------------------------ 2.7/11.5 MB 640.8 kB/s eta 0:00:14\n",
      "   --------- ------------------------------ 2.7/11.5 MB 640.8 kB/s eta 0:00:14\n",
      "   --------- ------------------------------ 2.7/11.5 MB 631.5 kB/s eta 0:00:14\n",
      "   --------- ------------------------------ 2.7/11.5 MB 629.4 kB/s eta 0:00:14\n",
      "   --------- ------------------------------ 2.7/11.5 MB 629.4 kB/s eta 0:00:14\n",
      "   --------- ------------------------------ 2.8/11.5 MB 625.2 kB/s eta 0:00:14\n",
      "   --------- ------------------------------ 2.8/11.5 MB 620.9 kB/s eta 0:00:15\n",
      "   --------- ------------------------------ 2.8/11.5 MB 614.7 kB/s eta 0:00:15\n",
      "   --------- ------------------------------ 2.8/11.5 MB 612.6 kB/s eta 0:00:15\n",
      "   --------- ------------------------------ 2.8/11.5 MB 612.6 kB/s eta 0:00:15\n",
      "   --------- ------------------------------ 2.8/11.5 MB 608.9 kB/s eta 0:00:15\n",
      "   --------- ------------------------------ 2.8/11.5 MB 608.9 kB/s eta 0:00:15\n",
      "   --------- ------------------------------ 2.8/11.5 MB 608.9 kB/s eta 0:00:15\n",
      "   --------- ------------------------------ 2.8/11.5 MB 597.2 kB/s eta 0:00:15\n",
      "   --------- ------------------------------ 2.9/11.5 MB 591.5 kB/s eta 0:00:15\n",
      "   --------- ------------------------------ 2.9/11.5 MB 591.5 kB/s eta 0:00:15\n",
      "   --------- ------------------------------ 2.9/11.5 MB 591.5 kB/s eta 0:00:15\n",
      "   --------- ------------------------------ 2.9/11.5 MB 591.5 kB/s eta 0:00:15\n",
      "   --------- ------------------------------ 2.9/11.5 MB 591.5 kB/s eta 0:00:15\n",
      "   --------- ------------------------------ 2.9/11.5 MB 591.5 kB/s eta 0:00:15\n",
      "   --------- ------------------------------ 2.9/11.5 MB 591.5 kB/s eta 0:00:15\n",
      "   ---------- ----------------------------- 2.9/11.5 MB 563.2 kB/s eta 0:00:16\n",
      "   ---------- ----------------------------- 2.9/11.5 MB 563.2 kB/s eta 0:00:16\n",
      "   ---------- ----------------------------- 2.9/11.5 MB 555.3 kB/s eta 0:00:16\n",
      "   ---------- ----------------------------- 2.9/11.5 MB 555.3 kB/s eta 0:00:16\n",
      "   ---------- ----------------------------- 2.9/11.5 MB 555.3 kB/s eta 0:00:16\n",
      "   ---------- ----------------------------- 2.9/11.5 MB 549.3 kB/s eta 0:00:16\n",
      "   ---------- ----------------------------- 2.9/11.5 MB 549.3 kB/s eta 0:00:16\n",
      "   ---------- ----------------------------- 2.9/11.5 MB 549.3 kB/s eta 0:00:16\n",
      "   ---------- ----------------------------- 2.9/11.5 MB 549.3 kB/s eta 0:00:16\n",
      "   ---------- ----------------------------- 2.9/11.5 MB 549.3 kB/s eta 0:00:16\n",
      "   ---------- ----------------------------- 2.9/11.5 MB 549.3 kB/s eta 0:00:16\n",
      "   ---------- ----------------------------- 2.9/11.5 MB 549.3 kB/s eta 0:00:16\n",
      "   ---------- ----------------------------- 2.9/11.5 MB 549.3 kB/s eta 0:00:16\n",
      "   ---------- ----------------------------- 2.9/11.5 MB 549.3 kB/s eta 0:00:16\n",
      "   ---------- ----------------------------- 2.9/11.5 MB 549.3 kB/s eta 0:00:16\n",
      "   ---------- ----------------------------- 2.9/11.5 MB 549.3 kB/s eta 0:00:16\n",
      "   ---------- ----------------------------- 2.9/11.5 MB 549.3 kB/s eta 0:00:16\n",
      "   ---------- ----------------------------- 2.9/11.5 MB 499.9 kB/s eta 0:00:18\n",
      "   ---------- ----------------------------- 2.9/11.5 MB 499.9 kB/s eta 0:00:18\n",
      "   ---------- ----------------------------- 2.9/11.5 MB 499.9 kB/s eta 0:00:18\n",
      "   ---------- ----------------------------- 2.9/11.5 MB 499.9 kB/s eta 0:00:18\n",
      "   ---------- ----------------------------- 2.9/11.5 MB 499.9 kB/s eta 0:00:18\n",
      "   ---------- ----------------------------- 2.9/11.5 MB 499.9 kB/s eta 0:00:18\n",
      "   ---------- ----------------------------- 2.9/11.5 MB 499.9 kB/s eta 0:00:18\n",
      "   ---------- ----------------------------- 2.9/11.5 MB 499.9 kB/s eta 0:00:18\n",
      "   ---------- ----------------------------- 2.9/11.5 MB 499.9 kB/s eta 0:00:18\n",
      "   ---------- ----------------------------- 2.9/11.5 MB 499.9 kB/s eta 0:00:18\n",
      "   ---------- ----------------------------- 2.9/11.5 MB 499.9 kB/s eta 0:00:18\n",
      "   ---------- ----------------------------- 2.9/11.5 MB 499.9 kB/s eta 0:00:18\n",
      "   ---------- ----------------------------- 2.9/11.5 MB 499.9 kB/s eta 0:00:18\n",
      "   ---------- ----------------------------- 2.9/11.5 MB 499.9 kB/s eta 0:00:18\n",
      "   ---------- ----------------------------- 2.9/11.5 MB 499.9 kB/s eta 0:00:18\n",
      "   ---------- ----------------------------- 2.9/11.5 MB 499.9 kB/s eta 0:00:18\n",
      "   ---------- ----------------------------- 2.9/11.5 MB 499.9 kB/s eta 0:00:18\n",
      "   ---------- ----------------------------- 2.9/11.5 MB 499.9 kB/s eta 0:00:18\n",
      "   ---------- ----------------------------- 2.9/11.5 MB 499.9 kB/s eta 0:00:18\n",
      "   ---------- ----------------------------- 2.9/11.5 MB 499.9 kB/s eta 0:00:18\n",
      "   ---------- ----------------------------- 2.9/11.5 MB 499.9 kB/s eta 0:00:18\n",
      "   ---------- ----------------------------- 2.9/11.5 MB 499.9 kB/s eta 0:00:18\n",
      "   ---------- ----------------------------- 2.9/11.5 MB 499.9 kB/s eta 0:00:18\n",
      "   ---------- ----------------------------- 3.0/11.5 MB 430.0 kB/s eta 0:00:20\n",
      "   ---------- ----------------------------- 3.0/11.5 MB 428.5 kB/s eta 0:00:20\n",
      "   ---------- ----------------------------- 3.0/11.5 MB 428.5 kB/s eta 0:00:20\n",
      "   ---------- ----------------------------- 3.0/11.5 MB 428.5 kB/s eta 0:00:20\n",
      "   ---------- ----------------------------- 3.0/11.5 MB 428.5 kB/s eta 0:00:20\n",
      "   ---------- ----------------------------- 3.0/11.5 MB 428.5 kB/s eta 0:00:20\n",
      "   ---------- ----------------------------- 3.0/11.5 MB 428.5 kB/s eta 0:00:20\n",
      "   ---------- ----------------------------- 3.0/11.5 MB 428.5 kB/s eta 0:00:20\n",
      "   ---------- ----------------------------- 3.0/11.5 MB 411.9 kB/s eta 0:00:21\n",
      "   ---------- ----------------------------- 3.0/11.5 MB 411.9 kB/s eta 0:00:21\n",
      "   ---------- ----------------------------- 3.0/11.5 MB 411.9 kB/s eta 0:00:21\n",
      "   ---------- ----------------------------- 3.0/11.5 MB 411.9 kB/s eta 0:00:21\n",
      "   ---------- ----------------------------- 3.0/11.5 MB 411.9 kB/s eta 0:00:21\n",
      "   ---------- ----------------------------- 3.0/11.5 MB 403.4 kB/s eta 0:00:22\n",
      "   ---------- ----------------------------- 3.0/11.5 MB 403.4 kB/s eta 0:00:22\n",
      "   ---------- ----------------------------- 3.0/11.5 MB 403.4 kB/s eta 0:00:22\n",
      "   ---------- ----------------------------- 3.0/11.5 MB 403.4 kB/s eta 0:00:22\n",
      "   ---------- ----------------------------- 3.0/11.5 MB 394.0 kB/s eta 0:00:22\n",
      "   ---------- ----------------------------- 3.0/11.5 MB 394.0 kB/s eta 0:00:22\n",
      "   ---------- ----------------------------- 3.0/11.5 MB 394.0 kB/s eta 0:00:22\n",
      "   ---------- ----------------------------- 3.0/11.5 MB 394.0 kB/s eta 0:00:22\n",
      "   ---------- ----------------------------- 3.0/11.5 MB 394.0 kB/s eta 0:00:22\n",
      "   ---------- ----------------------------- 3.0/11.5 MB 394.0 kB/s eta 0:00:22\n",
      "   ---------- ----------------------------- 3.0/11.5 MB 384.1 kB/s eta 0:00:23\n",
      "   ---------- ----------------------------- 3.0/11.5 MB 384.1 kB/s eta 0:00:23\n",
      "   ---------- ----------------------------- 3.0/11.5 MB 384.1 kB/s eta 0:00:23\n",
      "   ---------- ----------------------------- 3.0/11.5 MB 384.1 kB/s eta 0:00:23\n",
      "   ---------- ----------------------------- 3.0/11.5 MB 384.1 kB/s eta 0:00:23\n",
      "   ---------- ----------------------------- 3.0/11.5 MB 384.1 kB/s eta 0:00:23\n",
      "   ---------- ----------------------------- 3.0/11.5 MB 384.1 kB/s eta 0:00:23\n",
      "   ---------- ----------------------------- 3.0/11.5 MB 384.1 kB/s eta 0:00:23\n",
      "   ---------- ----------------------------- 3.0/11.5 MB 384.1 kB/s eta 0:00:23\n",
      "   ---------- ----------------------------- 3.1/11.5 MB 368.6 kB/s eta 0:00:23\n",
      "   ---------- ----------------------------- 3.1/11.5 MB 368.6 kB/s eta 0:00:23\n",
      "   ---------- ----------------------------- 3.1/11.5 MB 368.6 kB/s eta 0:00:23\n",
      "   ---------- ----------------------------- 3.1/11.5 MB 368.6 kB/s eta 0:00:23\n",
      "   ---------- ----------------------------- 3.1/11.5 MB 368.6 kB/s eta 0:00:23\n",
      "   ---------- ----------------------------- 3.1/11.5 MB 368.6 kB/s eta 0:00:23\n",
      "   ---------- ----------------------------- 3.1/11.5 MB 368.6 kB/s eta 0:00:23\n",
      "   ---------- ----------------------------- 3.1/11.5 MB 368.6 kB/s eta 0:00:23\n",
      "   ---------- ----------------------------- 3.1/11.5 MB 368.6 kB/s eta 0:00:23\n",
      "   ---------- ----------------------------- 3.1/11.5 MB 368.6 kB/s eta 0:00:23\n",
      "   ---------- ----------------------------- 3.1/11.5 MB 368.6 kB/s eta 0:00:23\n",
      "   ---------- ----------------------------- 3.1/11.5 MB 351.8 kB/s eta 0:00:24\n",
      "   ---------- ----------------------------- 3.1/11.5 MB 351.8 kB/s eta 0:00:24\n",
      "   ---------- ----------------------------- 3.1/11.5 MB 351.8 kB/s eta 0:00:24\n",
      "   ---------- ----------------------------- 3.1/11.5 MB 351.8 kB/s eta 0:00:24\n",
      "   ---------- ----------------------------- 3.1/11.5 MB 351.8 kB/s eta 0:00:24\n",
      "   ---------- ----------------------------- 3.1/11.5 MB 351.8 kB/s eta 0:00:24\n",
      "   ---------- ----------------------------- 3.1/11.5 MB 351.8 kB/s eta 0:00:24\n",
      "   ---------- ----------------------------- 3.1/11.5 MB 341.9 kB/s eta 0:00:25\n",
      "   ---------- ----------------------------- 3.1/11.5 MB 341.9 kB/s eta 0:00:25\n",
      "   ---------- ----------------------------- 3.1/11.5 MB 341.9 kB/s eta 0:00:25\n",
      "   ---------- ----------------------------- 3.1/11.5 MB 341.9 kB/s eta 0:00:25\n",
      "   ---------- ----------------------------- 3.1/11.5 MB 341.9 kB/s eta 0:00:25\n",
      "   ---------- ----------------------------- 3.1/11.5 MB 341.9 kB/s eta 0:00:25\n",
      "   ---------- ----------------------------- 3.1/11.5 MB 334.9 kB/s eta 0:00:26\n",
      "   ---------- ----------------------------- 3.1/11.5 MB 334.9 kB/s eta 0:00:26\n",
      "   ---------- ----------------------------- 3.1/11.5 MB 334.9 kB/s eta 0:00:26\n",
      "   ---------- ----------------------------- 3.1/11.5 MB 334.9 kB/s eta 0:00:26\n",
      "   ---------- ----------------------------- 3.1/11.5 MB 329.9 kB/s eta 0:00:26\n",
      "   ---------- ----------------------------- 3.1/11.5 MB 329.9 kB/s eta 0:00:26\n",
      "   ---------- ----------------------------- 3.1/11.5 MB 329.9 kB/s eta 0:00:26\n",
      "   ---------- ----------------------------- 3.1/11.5 MB 329.9 kB/s eta 0:00:26\n",
      "   ---------- ----------------------------- 3.1/11.5 MB 329.9 kB/s eta 0:00:26\n",
      "   ---------- ----------------------------- 3.1/11.5 MB 325.0 kB/s eta 0:00:26\n",
      "   ---------- ----------------------------- 3.1/11.5 MB 325.0 kB/s eta 0:00:26\n",
      "   ---------- ----------------------------- 3.1/11.5 MB 325.0 kB/s eta 0:00:26\n",
      "   ---------- ----------------------------- 3.1/11.5 MB 320.9 kB/s eta 0:00:27\n",
      "   ---------- ----------------------------- 3.1/11.5 MB 320.9 kB/s eta 0:00:27\n",
      "   ---------- ----------------------------- 3.1/11.5 MB 320.9 kB/s eta 0:00:27\n",
      "   ----------- ---------------------------- 3.2/11.5 MB 319.4 kB/s eta 0:00:27\n",
      "   ----------- ---------------------------- 3.2/11.5 MB 319.4 kB/s eta 0:00:27\n",
      "   ----------- ---------------------------- 3.2/11.5 MB 319.4 kB/s eta 0:00:27\n",
      "   ----------- ---------------------------- 3.2/11.5 MB 316.5 kB/s eta 0:00:27\n",
      "   ----------- ---------------------------- 3.2/11.5 MB 316.5 kB/s eta 0:00:27\n",
      "   ----------- ---------------------------- 3.2/11.5 MB 316.5 kB/s eta 0:00:27\n",
      "   ----------- ---------------------------- 3.2/11.5 MB 314.0 kB/s eta 0:00:27\n",
      "   ----------- ---------------------------- 3.2/11.5 MB 314.0 kB/s eta 0:00:27\n",
      "   ----------- ---------------------------- 3.2/11.5 MB 314.0 kB/s eta 0:00:27\n",
      "   ----------- ---------------------------- 3.2/11.5 MB 312.7 kB/s eta 0:00:27\n",
      "   ----------- ---------------------------- 3.2/11.5 MB 312.7 kB/s eta 0:00:27\n",
      "   ----------- ---------------------------- 3.2/11.5 MB 310.8 kB/s eta 0:00:27\n",
      "   ----------- ---------------------------- 3.2/11.5 MB 310.8 kB/s eta 0:00:27\n",
      "   ----------- ---------------------------- 3.2/11.5 MB 310.0 kB/s eta 0:00:27\n",
      "   ----------- ---------------------------- 3.2/11.5 MB 310.0 kB/s eta 0:00:27\n",
      "   ----------- ---------------------------- 3.3/11.5 MB 308.7 kB/s eta 0:00:27\n",
      "   ----------- ---------------------------- 3.3/11.5 MB 308.7 kB/s eta 0:00:27\n",
      "   ----------- ---------------------------- 3.3/11.5 MB 307.0 kB/s eta 0:00:27\n",
      "   ----------- ---------------------------- 3.3/11.5 MB 307.0 kB/s eta 0:00:27\n",
      "   ----------- ---------------------------- 3.3/11.5 MB 307.0 kB/s eta 0:00:27\n",
      "   ----------- ---------------------------- 3.3/11.5 MB 305.8 kB/s eta 0:00:27\n",
      "   ----------- ---------------------------- 3.3/11.5 MB 305.4 kB/s eta 0:00:27\n",
      "   ----------- ---------------------------- 3.3/11.5 MB 305.4 kB/s eta 0:00:27\n",
      "   ----------- ---------------------------- 3.3/11.5 MB 305.4 kB/s eta 0:00:27\n",
      "   ----------- ---------------------------- 3.3/11.5 MB 304.2 kB/s eta 0:00:27\n",
      "   ----------- ---------------------------- 3.3/11.5 MB 304.2 kB/s eta 0:00:27\n",
      "   ----------- ---------------------------- 3.3/11.5 MB 303.9 kB/s eta 0:00:27\n",
      "   ----------- ---------------------------- 3.4/11.5 MB 303.1 kB/s eta 0:00:27\n",
      "   ----------- ---------------------------- 3.4/11.5 MB 303.1 kB/s eta 0:00:27\n",
      "   ----------- ---------------------------- 3.4/11.5 MB 302.8 kB/s eta 0:00:27\n",
      "   ----------- ---------------------------- 3.4/11.5 MB 302.5 kB/s eta 0:00:27\n",
      "   ----------- ---------------------------- 3.4/11.5 MB 302.5 kB/s eta 0:00:27\n",
      "   ----------- ---------------------------- 3.4/11.5 MB 302.2 kB/s eta 0:00:27\n",
      "   ----------- ---------------------------- 3.4/11.5 MB 302.3 kB/s eta 0:00:27\n",
      "   ----------- ---------------------------- 3.4/11.5 MB 302.0 kB/s eta 0:00:27\n",
      "   ----------- ---------------------------- 3.4/11.5 MB 302.0 kB/s eta 0:00:27\n",
      "   ------------ --------------------------- 3.5/11.5 MB 301.3 kB/s eta 0:00:27\n",
      "   ------------ --------------------------- 3.5/11.5 MB 301.3 kB/s eta 0:00:27\n",
      "   ------------ --------------------------- 3.5/11.5 MB 301.3 kB/s eta 0:00:27\n",
      "   ------------ --------------------------- 3.5/11.5 MB 301.3 kB/s eta 0:00:27\n",
      "   ------------ --------------------------- 3.5/11.5 MB 301.3 kB/s eta 0:00:27\n",
      "   ------------ --------------------------- 3.5/11.5 MB 301.3 kB/s eta 0:00:27\n",
      "   ------------ --------------------------- 3.5/11.5 MB 301.3 kB/s eta 0:00:27\n",
      "   ------------ --------------------------- 3.5/11.5 MB 296.7 kB/s eta 0:00:27\n",
      "   ------------ --------------------------- 3.5/11.5 MB 296.7 kB/s eta 0:00:27\n",
      "   ------------ --------------------------- 3.5/11.5 MB 295.7 kB/s eta 0:00:28\n",
      "   ------------ --------------------------- 3.5/11.5 MB 295.7 kB/s eta 0:00:28\n",
      "   ------------ --------------------------- 3.5/11.5 MB 294.2 kB/s eta 0:00:28\n",
      "   ------------ --------------------------- 3.5/11.5 MB 294.2 kB/s eta 0:00:28\n",
      "   ------------ --------------------------- 3.5/11.5 MB 294.4 kB/s eta 0:00:28\n",
      "   ------------ --------------------------- 3.5/11.5 MB 294.4 kB/s eta 0:00:28\n",
      "   ------------ --------------------------- 3.6/11.5 MB 293.0 kB/s eta 0:00:28\n",
      "   ------------ --------------------------- 3.6/11.5 MB 293.0 kB/s eta 0:00:28\n",
      "   ------------ --------------------------- 3.6/11.5 MB 292.4 kB/s eta 0:00:28\n",
      "   ------------ --------------------------- 3.6/11.5 MB 292.4 kB/s eta 0:00:28\n",
      "   ------------ --------------------------- 3.6/11.5 MB 291.8 kB/s eta 0:00:28\n",
      "   ------------ --------------------------- 3.6/11.5 MB 291.8 kB/s eta 0:00:28\n",
      "   ------------ --------------------------- 3.6/11.5 MB 291.6 kB/s eta 0:00:28\n",
      "   ------------ --------------------------- 3.6/11.5 MB 292.1 kB/s eta 0:00:27\n",
      "   ------------ --------------------------- 3.6/11.5 MB 292.1 kB/s eta 0:00:27\n",
      "   ------------ --------------------------- 3.6/11.5 MB 291.1 kB/s eta 0:00:28\n",
      "   ------------ --------------------------- 3.7/11.5 MB 292.0 kB/s eta 0:00:27\n",
      "   ------------ --------------------------- 3.7/11.5 MB 292.0 kB/s eta 0:00:27\n",
      "   ------------ --------------------------- 3.7/11.5 MB 291.5 kB/s eta 0:00:27\n",
      "   ------------ --------------------------- 3.7/11.5 MB 291.5 kB/s eta 0:00:27\n",
      "   ------------ --------------------------- 3.7/11.5 MB 290.8 kB/s eta 0:00:27\n",
      "   ------------ --------------------------- 3.7/11.5 MB 290.8 kB/s eta 0:00:27\n",
      "   ------------ --------------------------- 3.7/11.5 MB 290.6 kB/s eta 0:00:27\n",
      "   ------------ --------------------------- 3.7/11.5 MB 289.7 kB/s eta 0:00:27\n",
      "   ------------ --------------------------- 3.7/11.5 MB 289.7 kB/s eta 0:00:27\n",
      "   ------------- -------------------------- 3.7/11.5 MB 289.9 kB/s eta 0:00:27\n",
      "   ------------- -------------------------- 3.8/11.5 MB 289.7 kB/s eta 0:00:27\n",
      "   ------------- -------------------------- 3.8/11.5 MB 289.7 kB/s eta 0:00:27\n",
      "   ------------- -------------------------- 3.8/11.5 MB 289.1 kB/s eta 0:00:27\n",
      "   ------------- -------------------------- 3.8/11.5 MB 289.1 kB/s eta 0:00:27\n",
      "   ------------- -------------------------- 3.8/11.5 MB 289.1 kB/s eta 0:00:27\n",
      "   ------------- -------------------------- 3.8/11.5 MB 289.1 kB/s eta 0:00:27\n",
      "   ------------- -------------------------- 3.8/11.5 MB 286.2 kB/s eta 0:00:27\n",
      "   ------------- -------------------------- 3.8/11.5 MB 286.2 kB/s eta 0:00:27\n",
      "   ------------- -------------------------- 3.8/11.5 MB 285.9 kB/s eta 0:00:27\n",
      "   ------------- -------------------------- 3.8/11.5 MB 285.9 kB/s eta 0:00:27\n",
      "   ------------- -------------------------- 3.8/11.5 MB 285.9 kB/s eta 0:00:27\n",
      "   ------------- -------------------------- 3.8/11.5 MB 285.3 kB/s eta 0:00:27\n",
      "   ------------- -------------------------- 3.8/11.5 MB 285.3 kB/s eta 0:00:27\n",
      "   ------------- -------------------------- 3.8/11.5 MB 285.3 kB/s eta 0:00:27\n",
      "   ------------- -------------------------- 3.9/11.5 MB 283.8 kB/s eta 0:00:27\n",
      "   ------------- -------------------------- 3.9/11.5 MB 283.8 kB/s eta 0:00:27\n",
      "   ------------- -------------------------- 3.9/11.5 MB 283.7 kB/s eta 0:00:27\n",
      "   ------------- -------------------------- 3.9/11.5 MB 283.4 kB/s eta 0:00:27\n",
      "   ------------- -------------------------- 3.9/11.5 MB 283.4 kB/s eta 0:00:27\n",
      "   ------------- -------------------------- 3.9/11.5 MB 283.3 kB/s eta 0:00:27\n",
      "   ------------- -------------------------- 3.9/11.5 MB 283.8 kB/s eta 0:00:27\n",
      "   ------------- -------------------------- 3.9/11.5 MB 283.6 kB/s eta 0:00:27\n",
      "   ------------- -------------------------- 3.9/11.5 MB 283.4 kB/s eta 0:00:27\n",
      "   ------------- -------------------------- 4.0/11.5 MB 283.9 kB/s eta 0:00:27\n",
      "   ------------- -------------------------- 4.0/11.5 MB 284.0 kB/s eta 0:00:27\n",
      "   ------------- -------------------------- 4.0/11.5 MB 284.0 kB/s eta 0:00:27\n",
      "   ------------- -------------------------- 4.0/11.5 MB 283.9 kB/s eta 0:00:27\n",
      "   ------------- -------------------------- 4.0/11.5 MB 283.9 kB/s eta 0:00:27\n",
      "   ------------- -------------------------- 4.0/11.5 MB 283.5 kB/s eta 0:00:27\n",
      "   ------------- -------------------------- 4.0/11.5 MB 283.9 kB/s eta 0:00:27\n",
      "   ------------- -------------------------- 4.0/11.5 MB 283.9 kB/s eta 0:00:27\n",
      "   -------------- ------------------------- 4.1/11.5 MB 283.8 kB/s eta 0:00:27\n",
      "   -------------- ------------------------- 4.1/11.5 MB 284.3 kB/s eta 0:00:27\n",
      "   -------------- ------------------------- 4.1/11.5 MB 284.3 kB/s eta 0:00:27\n",
      "   -------------- ------------------------- 4.1/11.5 MB 284.2 kB/s eta 0:00:27\n",
      "   -------------- ------------------------- 4.1/11.5 MB 284.2 kB/s eta 0:00:27\n",
      "   -------------- ------------------------- 4.1/11.5 MB 284.5 kB/s eta 0:00:26\n",
      "   -------------- ------------------------- 4.1/11.5 MB 284.5 kB/s eta 0:00:26\n",
      "   -------------- ------------------------- 4.1/11.5 MB 284.0 kB/s eta 0:00:26\n",
      "   -------------- ------------------------- 4.2/11.5 MB 284.5 kB/s eta 0:00:26\n",
      "   -------------- ------------------------- 4.2/11.5 MB 284.7 kB/s eta 0:00:26\n",
      "   -------------- ------------------------- 4.2/11.5 MB 285.1 kB/s eta 0:00:26\n",
      "   -------------- ------------------------- 4.2/11.5 MB 285.1 kB/s eta 0:00:26\n",
      "   -------------- ------------------------- 4.2/11.5 MB 284.9 kB/s eta 0:00:26\n",
      "   -------------- ------------------------- 4.2/11.5 MB 284.7 kB/s eta 0:00:26\n",
      "   -------------- ------------------------- 4.2/11.5 MB 284.9 kB/s eta 0:00:26\n",
      "   -------------- ------------------------- 4.3/11.5 MB 285.1 kB/s eta 0:00:26\n",
      "   -------------- ------------------------- 4.3/11.5 MB 285.1 kB/s eta 0:00:26\n",
      "   -------------- ------------------------- 4.3/11.5 MB 284.6 kB/s eta 0:00:26\n",
      "   -------------- ------------------------- 4.3/11.5 MB 285.1 kB/s eta 0:00:26\n",
      "   -------------- ------------------------- 4.3/11.5 MB 284.8 kB/s eta 0:00:26\n",
      "   -------------- ------------------------- 4.3/11.5 MB 284.8 kB/s eta 0:00:26\n",
      "   --------------- ------------------------ 4.3/11.5 MB 285.0 kB/s eta 0:00:26\n",
      "   --------------- ------------------------ 4.3/11.5 MB 285.8 kB/s eta 0:00:26\n",
      "   --------------- ------------------------ 4.4/11.5 MB 285.3 kB/s eta 0:00:26\n",
      "   --------------- ------------------------ 4.4/11.5 MB 286.0 kB/s eta 0:00:25\n",
      "   --------------- ------------------------ 4.4/11.5 MB 286.0 kB/s eta 0:00:25\n",
      "   --------------- ------------------------ 4.4/11.5 MB 286.0 kB/s eta 0:00:25\n",
      "   --------------- ------------------------ 4.4/11.5 MB 286.0 kB/s eta 0:00:25\n",
      "   --------------- ------------------------ 4.4/11.5 MB 286.0 kB/s eta 0:00:25\n",
      "   --------------- ------------------------ 4.4/11.5 MB 286.0 kB/s eta 0:00:25\n",
      "   --------------- ------------------------ 4.4/11.5 MB 286.0 kB/s eta 0:00:25\n",
      "   --------------- ------------------------ 4.4/11.5 MB 286.0 kB/s eta 0:00:25\n",
      "   --------------- ------------------------ 4.4/11.5 MB 286.0 kB/s eta 0:00:25\n",
      "   --------------- ------------------------ 4.5/11.5 MB 283.9 kB/s eta 0:00:25\n",
      "   --------------- ------------------------ 4.5/11.5 MB 284.2 kB/s eta 0:00:25\n",
      "   --------------- ------------------------ 4.5/11.5 MB 284.2 kB/s eta 0:00:25\n",
      "   --------------- ------------------------ 4.5/11.5 MB 283.8 kB/s eta 0:00:25\n",
      "   --------------- ------------------------ 4.5/11.5 MB 284.6 kB/s eta 0:00:25\n",
      "   --------------- ------------------------ 4.5/11.5 MB 284.1 kB/s eta 0:00:25\n",
      "   --------------- ------------------------ 4.5/11.5 MB 284.6 kB/s eta 0:00:25\n",
      "   --------------- ------------------------ 4.5/11.5 MB 284.6 kB/s eta 0:00:25\n",
      "   --------------- ------------------------ 4.6/11.5 MB 284.8 kB/s eta 0:00:25\n",
      "   --------------- ------------------------ 4.6/11.5 MB 284.8 kB/s eta 0:00:25\n",
      "   --------------- ------------------------ 4.6/11.5 MB 285.0 kB/s eta 0:00:25\n",
      "   --------------- ------------------------ 4.6/11.5 MB 284.8 kB/s eta 0:00:25\n",
      "   --------------- ------------------------ 4.6/11.5 MB 284.8 kB/s eta 0:00:25\n",
      "   ---------------- ----------------------- 4.6/11.5 MB 284.9 kB/s eta 0:00:25\n",
      "   ---------------- ----------------------- 4.6/11.5 MB 284.7 kB/s eta 0:00:25\n",
      "   ---------------- ----------------------- 4.6/11.5 MB 284.9 kB/s eta 0:00:25\n",
      "   ---------------- ----------------------- 4.7/11.5 MB 285.9 kB/s eta 0:00:24\n",
      "   ---------------- ----------------------- 4.7/11.5 MB 285.9 kB/s eta 0:00:24\n",
      "   ---------------- ----------------------- 4.7/11.5 MB 285.2 kB/s eta 0:00:24\n",
      "   ---------------- ----------------------- 4.7/11.5 MB 285.6 kB/s eta 0:00:24\n",
      "   ---------------- ----------------------- 4.7/11.5 MB 285.1 kB/s eta 0:00:24\n",
      "   ---------------- ----------------------- 4.7/11.5 MB 285.1 kB/s eta 0:00:24\n",
      "   ---------------- ----------------------- 4.7/11.5 MB 285.1 kB/s eta 0:00:24\n",
      "   ---------------- ----------------------- 4.8/11.5 MB 285.7 kB/s eta 0:00:24\n",
      "   ---------------- ----------------------- 4.8/11.5 MB 285.8 kB/s eta 0:00:24\n",
      "   ---------------- ----------------------- 4.8/11.5 MB 285.9 kB/s eta 0:00:24\n",
      "   ---------------- ----------------------- 4.8/11.5 MB 286.0 kB/s eta 0:00:24\n",
      "   ---------------- ----------------------- 4.8/11.5 MB 286.2 kB/s eta 0:00:24\n",
      "   ---------------- ----------------------- 4.8/11.5 MB 287.1 kB/s eta 0:00:24\n",
      "   ---------------- ----------------------- 4.8/11.5 MB 286.7 kB/s eta 0:00:24\n",
      "   ---------------- ----------------------- 4.9/11.5 MB 287.1 kB/s eta 0:00:24\n",
      "   ---------------- ----------------------- 4.9/11.5 MB 287.4 kB/s eta 0:00:24\n",
      "   ----------------- ---------------------- 4.9/11.5 MB 287.3 kB/s eta 0:00:23\n",
      "   ----------------- ---------------------- 4.9/11.5 MB 288.5 kB/s eta 0:00:23\n",
      "   ----------------- ---------------------- 4.9/11.5 MB 288.5 kB/s eta 0:00:23\n",
      "   ----------------- ---------------------- 4.9/11.5 MB 288.1 kB/s eta 0:00:23\n",
      "   ----------------- ---------------------- 5.0/11.5 MB 288.8 kB/s eta 0:00:23\n",
      "   ----------------- ---------------------- 5.0/11.5 MB 289.3 kB/s eta 0:00:23\n",
      "   ----------------- ---------------------- 5.0/11.5 MB 289.6 kB/s eta 0:00:23\n",
      "   ----------------- ---------------------- 5.0/11.5 MB 289.6 kB/s eta 0:00:23\n",
      "   ----------------- ---------------------- 5.0/11.5 MB 290.4 kB/s eta 0:00:23\n",
      "   ----------------- ---------------------- 5.0/11.5 MB 290.0 kB/s eta 0:00:23\n",
      "   ----------------- ---------------------- 5.1/11.5 MB 290.4 kB/s eta 0:00:23\n",
      "   ----------------- ---------------------- 5.1/11.5 MB 290.7 kB/s eta 0:00:23\n",
      "   ----------------- ---------------------- 5.1/11.5 MB 290.7 kB/s eta 0:00:23\n",
      "   ----------------- ---------------------- 5.1/11.5 MB 291.5 kB/s eta 0:00:22\n",
      "   ----------------- ---------------------- 5.1/11.5 MB 291.5 kB/s eta 0:00:22\n",
      "   ----------------- ---------------------- 5.2/11.5 MB 291.9 kB/s eta 0:00:22\n",
      "   ----------------- ---------------------- 5.2/11.5 MB 292.0 kB/s eta 0:00:22\n",
      "   ------------------ --------------------- 5.2/11.5 MB 292.1 kB/s eta 0:00:22\n",
      "   ------------------ --------------------- 5.2/11.5 MB 292.1 kB/s eta 0:00:22\n",
      "   ------------------ --------------------- 5.2/11.5 MB 292.5 kB/s eta 0:00:22\n",
      "   ------------------ --------------------- 5.2/11.5 MB 291.8 kB/s eta 0:00:22\n",
      "   ------------------ --------------------- 5.2/11.5 MB 292.2 kB/s eta 0:00:22\n",
      "   ------------------ --------------------- 5.2/11.5 MB 292.2 kB/s eta 0:00:22\n",
      "   ------------------ --------------------- 5.2/11.5 MB 291.5 kB/s eta 0:00:22\n",
      "   ------------------ --------------------- 5.2/11.5 MB 291.5 kB/s eta 0:00:22\n",
      "   ------------------ --------------------- 5.3/11.5 MB 291.6 kB/s eta 0:00:22\n",
      "   ------------------ --------------------- 5.3/11.5 MB 291.7 kB/s eta 0:00:22\n",
      "   ------------------ --------------------- 5.3/11.5 MB 291.8 kB/s eta 0:00:22\n",
      "   ------------------ --------------------- 5.3/11.5 MB 291.9 kB/s eta 0:00:22\n",
      "   ------------------ --------------------- 5.3/11.5 MB 292.2 kB/s eta 0:00:22\n",
      "   ------------------ --------------------- 5.3/11.5 MB 292.2 kB/s eta 0:00:22\n",
      "   ------------------ --------------------- 5.3/11.5 MB 292.2 kB/s eta 0:00:22\n",
      "   ------------------ --------------------- 5.3/11.5 MB 292.2 kB/s eta 0:00:22\n",
      "   ------------------ --------------------- 5.3/11.5 MB 292.2 kB/s eta 0:00:22\n",
      "   ------------------ --------------------- 5.3/11.5 MB 289.9 kB/s eta 0:00:22\n",
      "   ------------------ --------------------- 5.3/11.5 MB 289.9 kB/s eta 0:00:22\n",
      "   ------------------ --------------------- 5.3/11.5 MB 289.9 kB/s eta 0:00:22\n",
      "   ------------------ --------------------- 5.3/11.5 MB 289.9 kB/s eta 0:00:22\n",
      "   ------------------ --------------------- 5.4/11.5 MB 288.3 kB/s eta 0:00:22\n",
      "   ------------------ --------------------- 5.4/11.5 MB 288.3 kB/s eta 0:00:22\n",
      "   ------------------ --------------------- 5.4/11.5 MB 287.6 kB/s eta 0:00:22\n",
      "   ------------------ --------------------- 5.4/11.5 MB 288.0 kB/s eta 0:00:22\n",
      "   ------------------ --------------------- 5.4/11.5 MB 288.1 kB/s eta 0:00:22\n",
      "   ------------------ --------------------- 5.4/11.5 MB 288.1 kB/s eta 0:00:22\n",
      "   ------------------ --------------------- 5.4/11.5 MB 287.7 kB/s eta 0:00:22\n",
      "   ------------------ --------------------- 5.4/11.5 MB 288.3 kB/s eta 0:00:21\n",
      "   ------------------ --------------------- 5.4/11.5 MB 288.3 kB/s eta 0:00:21\n",
      "   ------------------ --------------------- 5.4/11.5 MB 288.3 kB/s eta 0:00:21\n",
      "   ------------------ --------------------- 5.4/11.5 MB 288.3 kB/s eta 0:00:21\n",
      "   ------------------ --------------------- 5.4/11.5 MB 288.3 kB/s eta 0:00:21\n",
      "   ------------------ --------------------- 5.5/11.5 MB 285.5 kB/s eta 0:00:22\n",
      "   ------------------ --------------------- 5.5/11.5 MB 285.5 kB/s eta 0:00:22\n",
      "   ------------------- -------------------- 5.5/11.5 MB 285.7 kB/s eta 0:00:22\n",
      "   ------------------- -------------------- 5.5/11.5 MB 285.5 kB/s eta 0:00:22\n",
      "   ------------------- -------------------- 5.5/11.5 MB 285.9 kB/s eta 0:00:21\n",
      "   ------------------- -------------------- 5.5/11.5 MB 286.3 kB/s eta 0:00:21\n",
      "   ------------------- -------------------- 5.5/11.5 MB 286.3 kB/s eta 0:00:21\n",
      "   ------------------- -------------------- 5.5/11.5 MB 285.6 kB/s eta 0:00:21\n",
      "   ------------------- -------------------- 5.5/11.5 MB 285.6 kB/s eta 0:00:21\n",
      "   ------------------- -------------------- 5.6/11.5 MB 285.3 kB/s eta 0:00:21\n",
      "   ------------------- -------------------- 5.6/11.5 MB 286.4 kB/s eta 0:00:21\n",
      "   ------------------- -------------------- 5.6/11.5 MB 286.6 kB/s eta 0:00:21\n",
      "   ------------------- -------------------- 5.6/11.5 MB 286.6 kB/s eta 0:00:21\n",
      "   ------------------- -------------------- 5.6/11.5 MB 286.6 kB/s eta 0:00:21\n",
      "   ------------------- -------------------- 5.7/11.5 MB 287.6 kB/s eta 0:00:21\n",
      "   ------------------- -------------------- 5.7/11.5 MB 287.6 kB/s eta 0:00:21\n",
      "   ------------------- -------------------- 5.7/11.5 MB 287.8 kB/s eta 0:00:21\n",
      "   ------------------- -------------------- 5.7/11.5 MB 287.8 kB/s eta 0:00:21\n",
      "   ------------------- -------------------- 5.7/11.5 MB 287.7 kB/s eta 0:00:21\n",
      "   -------------------- ------------------- 5.8/11.5 MB 288.6 kB/s eta 0:00:20\n",
      "   -------------------- ------------------- 5.8/11.5 MB 288.6 kB/s eta 0:00:20\n",
      "   -------------------- ------------------- 5.8/11.5 MB 288.7 kB/s eta 0:00:20\n",
      "   -------------------- ------------------- 5.8/11.5 MB 288.7 kB/s eta 0:00:20\n",
      "   -------------------- ------------------- 5.8/11.5 MB 288.7 kB/s eta 0:00:20\n",
      "   -------------------- ------------------- 5.8/11.5 MB 288.7 kB/s eta 0:00:20\n",
      "   -------------------- ------------------- 5.8/11.5 MB 286.7 kB/s eta 0:00:20\n",
      "   -------------------- ------------------- 5.8/11.5 MB 287.3 kB/s eta 0:00:20\n",
      "   -------------------- ------------------- 5.8/11.5 MB 288.2 kB/s eta 0:00:20\n",
      "   -------------------- ------------------- 5.8/11.5 MB 288.2 kB/s eta 0:00:20\n",
      "   -------------------- ------------------- 5.8/11.5 MB 288.2 kB/s eta 0:00:20\n",
      "   -------------------- ------------------- 5.9/11.5 MB 287.4 kB/s eta 0:00:20\n",
      "   -------------------- ------------------- 5.9/11.5 MB 288.3 kB/s eta 0:00:20\n",
      "   -------------------- ------------------- 5.9/11.5 MB 288.3 kB/s eta 0:00:20\n",
      "   -------------------- ------------------- 5.9/11.5 MB 288.2 kB/s eta 0:00:20\n",
      "   -------------------- ------------------- 5.9/11.5 MB 289.1 kB/s eta 0:00:20\n",
      "   -------------------- ------------------- 5.9/11.5 MB 289.1 kB/s eta 0:00:20\n",
      "   -------------------- ------------------- 6.0/11.5 MB 289.7 kB/s eta 0:00:20\n",
      "   -------------------- ------------------- 6.0/11.5 MB 289.7 kB/s eta 0:00:20\n",
      "   -------------------- ------------------- 6.0/11.5 MB 289.8 kB/s eta 0:00:19\n",
      "   --------------------- ------------------ 6.0/11.5 MB 290.9 kB/s eta 0:00:19\n",
      "   --------------------- ------------------ 6.0/11.5 MB 290.9 kB/s eta 0:00:19\n",
      "   --------------------- ------------------ 6.1/11.5 MB 290.8 kB/s eta 0:00:19\n",
      "   --------------------- ------------------ 6.1/11.5 MB 291.4 kB/s eta 0:00:19\n",
      "   --------------------- ------------------ 6.1/11.5 MB 291.4 kB/s eta 0:00:19\n",
      "   --------------------- ------------------ 6.1/11.5 MB 291.5 kB/s eta 0:00:19\n",
      "   --------------------- ------------------ 6.1/11.5 MB 292.1 kB/s eta 0:00:19\n",
      "   --------------------- ------------------ 6.2/11.5 MB 292.1 kB/s eta 0:00:19\n",
      "   --------------------- ------------------ 6.2/11.5 MB 292.7 kB/s eta 0:00:19\n",
      "   --------------------- ------------------ 6.2/11.5 MB 293.0 kB/s eta 0:00:19\n",
      "   --------------------- ------------------ 6.2/11.5 MB 292.8 kB/s eta 0:00:19\n",
      "   --------------------- ------------------ 6.2/11.5 MB 293.1 kB/s eta 0:00:18\n",
      "   --------------------- ------------------ 6.2/11.5 MB 292.8 kB/s eta 0:00:18\n",
      "   --------------------- ------------------ 6.2/11.5 MB 292.8 kB/s eta 0:00:18\n",
      "   --------------------- ------------------ 6.3/11.5 MB 293.8 kB/s eta 0:00:18\n",
      "   --------------------- ------------------ 6.3/11.5 MB 293.8 kB/s eta 0:00:18\n",
      "   --------------------- ------------------ 6.3/11.5 MB 293.0 kB/s eta 0:00:18\n",
      "   --------------------- ------------------ 6.3/11.5 MB 294.0 kB/s eta 0:00:18\n",
      "   ---------------------- ----------------- 6.4/11.5 MB 295.1 kB/s eta 0:00:18\n",
      "   ---------------------- ----------------- 6.4/11.5 MB 294.9 kB/s eta 0:00:18\n",
      "   ---------------------- ----------------- 6.4/11.5 MB 294.9 kB/s eta 0:00:18\n",
      "   ---------------------- ----------------- 6.4/11.5 MB 295.7 kB/s eta 0:00:18\n",
      "   ---------------------- ----------------- 6.4/11.5 MB 296.0 kB/s eta 0:00:18\n",
      "   ---------------------- ----------------- 6.5/11.5 MB 296.8 kB/s eta 0:00:18\n",
      "   ---------------------- ----------------- 6.5/11.5 MB 297.5 kB/s eta 0:00:17\n",
      "   ---------------------- ----------------- 6.5/11.5 MB 297.3 kB/s eta 0:00:17\n",
      "   ---------------------- ----------------- 6.5/11.5 MB 298.1 kB/s eta 0:00:17\n",
      "   ---------------------- ----------------- 6.5/11.5 MB 298.2 kB/s eta 0:00:17\n",
      "   ---------------------- ----------------- 6.6/11.5 MB 298.5 kB/s eta 0:00:17\n",
      "   ---------------------- ----------------- 6.6/11.5 MB 299.2 kB/s eta 0:00:17\n",
      "   ---------------------- ----------------- 6.6/11.5 MB 299.5 kB/s eta 0:00:17\n",
      "   ----------------------- ---------------- 6.6/11.5 MB 300.5 kB/s eta 0:00:17\n",
      "   ----------------------- ---------------- 6.6/11.5 MB 300.5 kB/s eta 0:00:17\n",
      "   ----------------------- ---------------- 6.6/11.5 MB 300.1 kB/s eta 0:00:17\n",
      "   ----------------------- ---------------- 6.7/11.5 MB 301.1 kB/s eta 0:00:16\n",
      "   ----------------------- ---------------- 6.7/11.5 MB 300.9 kB/s eta 0:00:16\n",
      "   ----------------------- ---------------- 6.7/11.5 MB 301.7 kB/s eta 0:00:16\n",
      "   ----------------------- ---------------- 6.7/11.5 MB 302.4 kB/s eta 0:00:16\n",
      "   ----------------------- ---------------- 6.8/11.5 MB 302.7 kB/s eta 0:00:16\n",
      "   ----------------------- ---------------- 6.8/11.5 MB 303.7 kB/s eta 0:00:16\n",
      "   ----------------------- ---------------- 6.8/11.5 MB 303.9 kB/s eta 0:00:16\n",
      "   ----------------------- ---------------- 6.8/11.5 MB 303.9 kB/s eta 0:00:16\n",
      "   ----------------------- ---------------- 6.9/11.5 MB 303.4 kB/s eta 0:00:16\n",
      "   ----------------------- ---------------- 6.9/11.5 MB 304.1 kB/s eta 0:00:16\n",
      "   ----------------------- ---------------- 6.9/11.5 MB 304.6 kB/s eta 0:00:16\n",
      "   ----------------------- ---------------- 6.9/11.5 MB 304.6 kB/s eta 0:00:16\n",
      "   ------------------------ --------------- 6.9/11.5 MB 305.1 kB/s eta 0:00:15\n",
      "   ------------------------ --------------- 7.0/11.5 MB 306.3 kB/s eta 0:00:15\n",
      "   ------------------------ --------------- 7.0/11.5 MB 306.1 kB/s eta 0:00:15\n",
      "   ------------------------ --------------- 7.0/11.5 MB 306.8 kB/s eta 0:00:15\n",
      "   ------------------------ --------------- 7.1/11.5 MB 308.2 kB/s eta 0:00:15\n",
      "   ------------------------ --------------- 7.1/11.5 MB 309.1 kB/s eta 0:00:15\n",
      "   ------------------------ --------------- 7.1/11.5 MB 309.8 kB/s eta 0:00:15\n",
      "   ------------------------ --------------- 7.1/11.5 MB 310.3 kB/s eta 0:00:15\n",
      "   ------------------------ --------------- 7.1/11.5 MB 309.7 kB/s eta 0:00:15\n",
      "   ------------------------ --------------- 7.2/11.5 MB 310.4 kB/s eta 0:00:14\n",
      "   ------------------------ --------------- 7.2/11.5 MB 310.4 kB/s eta 0:00:14\n",
      "   ------------------------- -------------- 7.2/11.5 MB 311.5 kB/s eta 0:00:14\n",
      "   ------------------------- -------------- 7.2/11.5 MB 312.2 kB/s eta 0:00:14\n",
      "   ------------------------- -------------- 7.3/11.5 MB 312.7 kB/s eta 0:00:14\n",
      "   ------------------------- -------------- 7.3/11.5 MB 314.3 kB/s eta 0:00:14\n",
      "   ------------------------- -------------- 7.3/11.5 MB 314.7 kB/s eta 0:00:14\n",
      "   ------------------------- -------------- 7.4/11.5 MB 315.6 kB/s eta 0:00:14\n",
      "   ------------------------- -------------- 7.4/11.5 MB 316.3 kB/s eta 0:00:13\n",
      "   ------------------------- -------------- 7.4/11.5 MB 316.3 kB/s eta 0:00:13\n",
      "   -------------------------- ------------- 7.5/11.5 MB 319.0 kB/s eta 0:00:13\n",
      "   -------------------------- ------------- 7.5/11.5 MB 320.1 kB/s eta 0:00:13\n",
      "   -------------------------- ------------- 7.6/11.5 MB 321.2 kB/s eta 0:00:13\n",
      "   -------------------------- ------------- 7.6/11.5 MB 321.8 kB/s eta 0:00:13\n",
      "   -------------------------- ------------- 7.7/11.5 MB 323.4 kB/s eta 0:00:12\n",
      "   -------------------------- ------------- 7.7/11.5 MB 324.9 kB/s eta 0:00:12\n",
      "   -------------------------- ------------- 7.8/11.5 MB 325.5 kB/s eta 0:00:12\n",
      "   --------------------------- ------------ 7.8/11.5 MB 326.8 kB/s eta 0:00:12\n",
      "   --------------------------- ------------ 7.8/11.5 MB 327.5 kB/s eta 0:00:12\n",
      "   --------------------------- ------------ 7.9/11.5 MB 329.0 kB/s eta 0:00:12\n",
      "   --------------------------- ------------ 7.9/11.5 MB 329.6 kB/s eta 0:00:11\n",
      "   --------------------------- ------------ 7.9/11.5 MB 330.2 kB/s eta 0:00:11\n",
      "   --------------------------- ------------ 8.0/11.5 MB 332.4 kB/s eta 0:00:11\n",
      "   --------------------------- ------------ 8.0/11.5 MB 333.2 kB/s eta 0:00:11\n",
      "   ---------------------------- ----------- 8.1/11.5 MB 334.7 kB/s eta 0:00:11\n",
      "   ---------------------------- ----------- 8.1/11.5 MB 335.7 kB/s eta 0:00:11\n",
      "   ---------------------------- ----------- 8.2/11.5 MB 336.8 kB/s eta 0:00:10\n",
      "   ---------------------------- ----------- 8.2/11.5 MB 336.8 kB/s eta 0:00:10\n",
      "   ---------------------------- ----------- 8.2/11.5 MB 337.4 kB/s eta 0:00:10\n",
      "   ---------------------------- ----------- 8.2/11.5 MB 337.4 kB/s eta 0:00:10\n",
      "   ---------------------------- ----------- 8.2/11.5 MB 337.1 kB/s eta 0:00:10\n",
      "   ---------------------------- ----------- 8.3/11.5 MB 339.0 kB/s eta 0:00:10\n",
      "   ---------------------------- ----------- 8.3/11.5 MB 339.6 kB/s eta 0:00:10\n",
      "   ----------------------------- ---------- 8.4/11.5 MB 340.6 kB/s eta 0:00:10\n",
      "   ----------------------------- ---------- 8.4/11.5 MB 340.6 kB/s eta 0:00:10\n",
      "   ----------------------------- ---------- 8.4/11.5 MB 340.2 kB/s eta 0:00:10\n",
      "   ----------------------------- ---------- 8.4/11.5 MB 340.6 kB/s eta 0:00:10\n",
      "   ----------------------------- ---------- 8.4/11.5 MB 340.3 kB/s eta 0:00:10\n",
      "   ----------------------------- ---------- 8.4/11.5 MB 340.1 kB/s eta 0:00:10\n",
      "   ----------------------------- ---------- 8.4/11.5 MB 340.1 kB/s eta 0:00:10\n",
      "   ----------------------------- ---------- 8.4/11.5 MB 340.3 kB/s eta 0:00:09\n",
      "   ----------------------------- ---------- 8.4/11.5 MB 340.3 kB/s eta 0:00:09\n",
      "   ----------------------------- ---------- 8.5/11.5 MB 340.0 kB/s eta 0:00:09\n",
      "   ----------------------------- ---------- 8.5/11.5 MB 340.4 kB/s eta 0:00:09\n",
      "   ----------------------------- ---------- 8.5/11.5 MB 340.4 kB/s eta 0:00:09\n",
      "   ----------------------------- ---------- 8.5/11.5 MB 340.8 kB/s eta 0:00:09\n",
      "   ----------------------------- ---------- 8.5/11.5 MB 340.1 kB/s eta 0:00:09\n",
      "   ----------------------------- ---------- 8.6/11.5 MB 340.5 kB/s eta 0:00:09\n",
      "   ----------------------------- ---------- 8.6/11.5 MB 340.5 kB/s eta 0:00:09\n",
      "   ----------------------------- ---------- 8.6/11.5 MB 340.5 kB/s eta 0:00:09\n",
      "   ----------------------------- ---------- 8.6/11.5 MB 340.5 kB/s eta 0:00:09\n",
      "   ----------------------------- ---------- 8.6/11.5 MB 340.5 kB/s eta 0:00:09\n",
      "   ----------------------------- ---------- 8.6/11.5 MB 338.8 kB/s eta 0:00:09\n",
      "   ------------------------------ --------- 8.7/11.5 MB 341.2 kB/s eta 0:00:09\n",
      "   ------------------------------ --------- 8.7/11.5 MB 341.2 kB/s eta 0:00:09\n",
      "   ------------------------------ --------- 8.7/11.5 MB 340.8 kB/s eta 0:00:09\n",
      "   ------------------------------ --------- 8.7/11.5 MB 341.2 kB/s eta 0:00:09\n",
      "   ------------------------------ --------- 8.7/11.5 MB 340.5 kB/s eta 0:00:09\n",
      "   ------------------------------ --------- 8.7/11.5 MB 340.7 kB/s eta 0:00:09\n",
      "   ------------------------------ --------- 8.7/11.5 MB 341.3 kB/s eta 0:00:09\n",
      "   ------------------------------ --------- 8.8/11.5 MB 341.9 kB/s eta 0:00:08\n",
      "   ------------------------------ --------- 8.8/11.5 MB 342.4 kB/s eta 0:00:08\n",
      "   ------------------------------ --------- 8.8/11.5 MB 343.0 kB/s eta 0:00:08\n",
      "   ------------------------------ --------- 8.9/11.5 MB 344.0 kB/s eta 0:00:08\n",
      "   ------------------------------ --------- 8.9/11.5 MB 344.2 kB/s eta 0:00:08\n",
      "   ------------------------------- -------- 8.9/11.5 MB 344.7 kB/s eta 0:00:08\n",
      "   ------------------------------- -------- 8.9/11.5 MB 345.1 kB/s eta 0:00:08\n",
      "   ------------------------------- -------- 9.0/11.5 MB 346.8 kB/s eta 0:00:08\n",
      "   ------------------------------- -------- 9.1/11.5 MB 348.2 kB/s eta 0:00:08\n",
      "   ------------------------------- -------- 9.1/11.5 MB 348.6 kB/s eta 0:00:07\n",
      "   ------------------------------- -------- 9.1/11.5 MB 348.5 kB/s eta 0:00:07\n",
      "   ------------------------------- -------- 9.1/11.5 MB 348.5 kB/s eta 0:00:07\n",
      "   ------------------------------- -------- 9.1/11.5 MB 348.5 kB/s eta 0:00:07\n",
      "   ------------------------------- -------- 9.1/11.5 MB 348.6 kB/s eta 0:00:07\n",
      "   ------------------------------- -------- 9.2/11.5 MB 348.8 kB/s eta 0:00:07\n",
      "   ------------------------------- -------- 9.2/11.5 MB 349.3 kB/s eta 0:00:07\n",
      "   -------------------------------- ------- 9.2/11.5 MB 349.3 kB/s eta 0:00:07\n",
      "   -------------------------------- ------- 9.2/11.5 MB 350.4 kB/s eta 0:00:07\n",
      "   -------------------------------- ------- 9.3/11.5 MB 351.9 kB/s eta 0:00:07\n",
      "   -------------------------------- ------- 9.3/11.5 MB 352.5 kB/s eta 0:00:07\n",
      "   -------------------------------- ------- 9.4/11.5 MB 353.2 kB/s eta 0:00:07\n",
      "   -------------------------------- ------- 9.4/11.5 MB 354.3 kB/s eta 0:00:06\n",
      "   -------------------------------- ------- 9.5/11.5 MB 356.2 kB/s eta 0:00:06\n",
      "   --------------------------------- ------ 9.5/11.5 MB 357.2 kB/s eta 0:00:06\n",
      "   --------------------------------- ------ 9.6/11.5 MB 359.0 kB/s eta 0:00:06\n",
      "   --------------------------------- ------ 9.6/11.5 MB 358.8 kB/s eta 0:00:06\n",
      "   --------------------------------- ------ 9.6/11.5 MB 359.3 kB/s eta 0:00:06\n",
      "   --------------------------------- ------ 9.7/11.5 MB 360.8 kB/s eta 0:00:06\n",
      "   --------------------------------- ------ 9.7/11.5 MB 361.9 kB/s eta 0:00:05\n",
      "   --------------------------------- ------ 9.7/11.5 MB 362.8 kB/s eta 0:00:05\n",
      "   ---------------------------------- ----- 9.8/11.5 MB 364.6 kB/s eta 0:00:05\n",
      "   ---------------------------------- ----- 9.9/11.5 MB 365.3 kB/s eta 0:00:05\n",
      "   ---------------------------------- ----- 9.9/11.5 MB 365.6 kB/s eta 0:00:05\n",
      "   ---------------------------------- ----- 9.9/11.5 MB 365.6 kB/s eta 0:00:05\n",
      "   ---------------------------------- ----- 9.9/11.5 MB 366.9 kB/s eta 0:00:05\n",
      "   ---------------------------------- ----- 10.0/11.5 MB 367.6 kB/s eta 0:00:05\n",
      "   ---------------------------------- ----- 10.0/11.5 MB 368.2 kB/s eta 0:00:05\n",
      "   ---------------------------------- ----- 10.0/11.5 MB 368.2 kB/s eta 0:00:05\n",
      "   ---------------------------------- ----- 10.0/11.5 MB 368.5 kB/s eta 0:00:04\n",
      "   ---------------------------------- ----- 10.1/11.5 MB 368.6 kB/s eta 0:00:04\n",
      "   ----------------------------------- ---- 10.1/11.5 MB 368.5 kB/s eta 0:00:04\n",
      "   ----------------------------------- ---- 10.1/11.5 MB 368.5 kB/s eta 0:00:04\n",
      "   ----------------------------------- ---- 10.1/11.5 MB 369.2 kB/s eta 0:00:04\n",
      "   ----------------------------------- ---- 10.2/11.5 MB 370.0 kB/s eta 0:00:04\n",
      "   ----------------------------------- ---- 10.2/11.5 MB 371.1 kB/s eta 0:00:04\n",
      "   ----------------------------------- ---- 10.2/11.5 MB 371.0 kB/s eta 0:00:04\n",
      "   ----------------------------------- ---- 10.3/11.5 MB 371.6 kB/s eta 0:00:04\n",
      "   ----------------------------------- ---- 10.3/11.5 MB 371.8 kB/s eta 0:00:04\n",
      "   ----------------------------------- ---- 10.3/11.5 MB 371.4 kB/s eta 0:00:04\n",
      "   ------------------------------------ --- 10.4/11.5 MB 370.9 kB/s eta 0:00:04\n",
      "   ------------------------------------ --- 10.4/11.5 MB 370.7 kB/s eta 0:00:04\n",
      "   ------------------------------------ --- 10.4/11.5 MB 370.9 kB/s eta 0:00:03\n",
      "   ------------------------------------ --- 10.4/11.5 MB 370.7 kB/s eta 0:00:03\n",
      "   ------------------------------------ --- 10.5/11.5 MB 370.3 kB/s eta 0:00:03\n",
      "   ------------------------------------ --- 10.5/11.5 MB 369.7 kB/s eta 0:00:03\n",
      "   ------------------------------------ --- 10.5/11.5 MB 369.9 kB/s eta 0:00:03\n",
      "   ------------------------------------ --- 10.6/11.5 MB 370.1 kB/s eta 0:00:03\n",
      "   ------------------------------------ --- 10.6/11.5 MB 370.3 kB/s eta 0:00:03\n",
      "   ------------------------------------ --- 10.6/11.5 MB 369.9 kB/s eta 0:00:03\n",
      "   ------------------------------------- -- 10.7/11.5 MB 369.5 kB/s eta 0:00:03\n",
      "   ------------------------------------- -- 10.7/11.5 MB 369.1 kB/s eta 0:00:03\n",
      "   ------------------------------------- -- 10.7/11.5 MB 368.9 kB/s eta 0:00:03\n",
      "   ------------------------------------- -- 10.7/11.5 MB 369.1 kB/s eta 0:00:03\n",
      "   ------------------------------------- -- 10.8/11.5 MB 369.1 kB/s eta 0:00:02\n",
      "   ------------------------------------- -- 10.8/11.5 MB 368.8 kB/s eta 0:00:02\n",
      "   ------------------------------------- -- 10.9/11.5 MB 368.4 kB/s eta 0:00:02\n",
      "   ------------------------------------- -- 10.9/11.5 MB 368.6 kB/s eta 0:00:02\n",
      "   ------------------------------------- -- 10.9/11.5 MB 368.6 kB/s eta 0:00:02\n",
      "   -------------------------------------- - 10.9/11.5 MB 368.2 kB/s eta 0:00:02\n",
      "   -------------------------------------- - 11.0/11.5 MB 368.2 kB/s eta 0:00:02\n",
      "   -------------------------------------- - 11.0/11.5 MB 368.0 kB/s eta 0:00:02\n",
      "   -------------------------------------- - 11.0/11.5 MB 367.8 kB/s eta 0:00:02\n",
      "   -------------------------------------- - 11.1/11.5 MB 369.5 kB/s eta 0:00:02\n",
      "   -------------------------------------- - 11.1/11.5 MB 369.5 kB/s eta 0:00:02\n",
      "   -------------------------------------- - 11.1/11.5 MB 368.8 kB/s eta 0:00:02\n",
      "   -------------------------------------- - 11.1/11.5 MB 367.8 kB/s eta 0:00:02\n",
      "   -------------------------------------- - 11.1/11.5 MB 367.2 kB/s eta 0:00:02\n",
      "   -------------------------------------- - 11.1/11.5 MB 366.8 kB/s eta 0:00:02\n",
      "   -------------------------------------- - 11.2/11.5 MB 366.2 kB/s eta 0:00:01\n",
      "   -------------------------------------- - 11.2/11.5 MB 366.2 kB/s eta 0:00:01\n",
      "   -------------------------------------- - 11.2/11.5 MB 365.3 kB/s eta 0:00:01\n",
      "   -------------------------------------- - 11.2/11.5 MB 364.7 kB/s eta 0:00:01\n",
      "   ---------------------------------------  11.2/11.5 MB 363.9 kB/s eta 0:00:01\n",
      "   ---------------------------------------  11.3/11.5 MB 363.7 kB/s eta 0:00:01\n",
      "   ---------------------------------------  11.3/11.5 MB 363.9 kB/s eta 0:00:01\n",
      "   ---------------------------------------  11.4/11.5 MB 364.3 kB/s eta 0:00:01\n",
      "   ---------------------------------------  11.4/11.5 MB 364.1 kB/s eta 0:00:01\n",
      "   ---------------------------------------  11.4/11.5 MB 363.3 kB/s eta 0:00:01\n",
      "   ---------------------------------------  11.4/11.5 MB 363.5 kB/s eta 0:00:01\n",
      "   ---------------------------------------  11.5/11.5 MB 363.1 kB/s eta 0:00:01\n",
      "   ---------------------------------------  11.5/11.5 MB 363.1 kB/s eta 0:00:01\n",
      "   ---------------------------------------  11.5/11.5 MB 363.1 kB/s eta 0:00:01\n",
      "   ---------------------------------------- 11.5/11.5 MB 362.1 kB/s eta 0:00:00\n",
      "Downloading pytz-2024.1-py2.py3-none-any.whl (505 kB)\n",
      "   ---------------------------------------- 0.0/505.5 kB ? eta -:--:--\n",
      "   --- ----------------------------------- 41.0/505.5 kB 960.0 kB/s eta 0:00:01\n",
      "   ---- ----------------------------------- 61.4/505.5 kB 1.1 MB/s eta 0:00:01\n",
      "   -------- ------------------------------- 112.6/505.5 kB 1.1 MB/s eta 0:00:01\n",
      "   ------------ --------------------------- 163.8/505.5 kB 1.1 MB/s eta 0:00:01\n",
      "   ------------- -------------------------- 174.1/505.5 kB 1.2 MB/s eta 0:00:01\n",
      "   --------------------- ------------------ 266.2/505.5 kB 1.0 MB/s eta 0:00:01\n",
      "   ------------------------- -------------- 327.7/505.5 kB 1.0 MB/s eta 0:00:01\n",
      "   ------------------------------- -------- 399.4/505.5 kB 1.1 MB/s eta 0:00:01\n",
      "   ----------------------------------- ---- 450.6/505.5 kB 1.1 MB/s eta 0:00:01\n",
      "   ---------------------------------------  501.8/505.5 kB 1.2 MB/s eta 0:00:01\n",
      "   ---------------------------------------- 505.5/505.5 kB 1.1 MB/s eta 0:00:00\n",
      "Downloading tzdata-2024.1-py2.py3-none-any.whl (345 kB)\n",
      "   ---------------------------------------- 0.0/345.4 kB ? eta -:--:--\n",
      "   --- ----------------------------------- 30.7/345.4 kB 640.0 kB/s eta 0:00:01\n",
      "   --- ----------------------------------- 30.7/345.4 kB 640.0 kB/s eta 0:00:01\n",
      "   --- ----------------------------------- 30.7/345.4 kB 640.0 kB/s eta 0:00:01\n",
      "   --- ----------------------------------- 30.7/345.4 kB 640.0 kB/s eta 0:00:01\n",
      "   --- ----------------------------------- 30.7/345.4 kB 640.0 kB/s eta 0:00:01\n",
      "   --- ----------------------------------- 30.7/345.4 kB 640.0 kB/s eta 0:00:01\n",
      "   --- ----------------------------------- 30.7/345.4 kB 640.0 kB/s eta 0:00:01\n",
      "   ---- ---------------------------------- 41.0/345.4 kB 103.4 kB/s eta 0:00:03\n",
      "   ---- ---------------------------------- 41.0/345.4 kB 103.4 kB/s eta 0:00:03\n",
      "   ---- ---------------------------------- 41.0/345.4 kB 103.4 kB/s eta 0:00:03\n",
      "   ---- ---------------------------------- 41.0/345.4 kB 103.4 kB/s eta 0:00:03\n",
      "   ------ -------------------------------- 61.4/345.4 kB 105.6 kB/s eta 0:00:03\n",
      "   ------ -------------------------------- 61.4/345.4 kB 105.6 kB/s eta 0:00:03\n",
      "   ---------- ---------------------------- 92.2/345.4 kB 149.8 kB/s eta 0:00:02\n",
      "   ------------- ------------------------ 122.9/345.4 kB 184.7 kB/s eta 0:00:02\n",
      "   --------------- ---------------------- 143.4/345.4 kB 213.0 kB/s eta 0:00:01\n",
      "   ------------------- ------------------ 174.1/345.4 kB 238.1 kB/s eta 0:00:01\n",
      "   ---------------------- --------------- 204.8/345.4 kB 264.7 kB/s eta 0:00:01\n",
      "   ----------------------- -------------- 215.0/345.4 kB 261.9 kB/s eta 0:00:01\n",
      "   ------------------------ ------------- 225.3/345.4 kB 269.8 kB/s eta 0:00:01\n",
      "   ------------------------ ------------- 225.3/345.4 kB 269.8 kB/s eta 0:00:01\n",
      "   ------------------------- ------------ 235.5/345.4 kB 252.8 kB/s eta 0:00:01\n",
      "   ---------------------------- --------- 256.0/345.4 kB 262.0 kB/s eta 0:00:01\n",
      "   ---------------------------- --------- 256.0/345.4 kB 262.0 kB/s eta 0:00:01\n",
      "   ------------------------------- ------ 286.7/345.4 kB 267.9 kB/s eta 0:00:01\n",
      "   ------------------------------- ------ 286.7/345.4 kB 267.9 kB/s eta 0:00:01\n",
      "   -------------------------------------  337.9/345.4 kB 291.3 kB/s eta 0:00:01\n",
      "   -------------------------------------  337.9/345.4 kB 291.3 kB/s eta 0:00:01\n",
      "   -------------------------------------- 345.4/345.4 kB 285.9 kB/s eta 0:00:00\n",
      "Installing collected packages: pytz, tzdata, pandas\n",
      "Successfully installed pandas-2.2.2 pytz-2024.1 tzdata-2024.1\n"
     ]
    }
   ],
   "source": [
    "#pandas\n",
    "!pip install pandas"
   ]
  },
  {
   "cell_type": "code",
   "execution_count": 80,
   "metadata": {},
   "outputs": [
    {
     "name": "stdout",
     "output_type": "stream",
     "text": [
      "Defaulting to user installation because normal site-packages is not writeable\n",
      "Requirement already satisfied: pandas in c:\\users\\bhumi\\appdata\\roaming\\python\\python312\\site-packages (2.2.2)\n",
      "Requirement already satisfied: numpy>=1.26.0 in c:\\users\\bhumi\\appdata\\roaming\\python\\python312\\site-packages (from pandas) (2.0.0)\n",
      "Requirement already satisfied: python-dateutil>=2.8.2 in c:\\users\\bhumi\\appdata\\roaming\\python\\python312\\site-packages (from pandas) (2.9.0.post0)\n",
      "Requirement already satisfied: pytz>=2020.1 in c:\\users\\bhumi\\appdata\\roaming\\python\\python312\\site-packages (from pandas) (2024.1)\n",
      "Requirement already satisfied: tzdata>=2022.7 in c:\\users\\bhumi\\appdata\\roaming\\python\\python312\\site-packages (from pandas) (2024.1)\n",
      "Requirement already satisfied: six>=1.5 in c:\\users\\bhumi\\appdata\\roaming\\python\\python312\\site-packages (from python-dateutil>=2.8.2->pandas) (1.16.0)\n"
     ]
    }
   ],
   "source": [
    "!pip install pandas"
   ]
  },
  {
   "cell_type": "code",
   "execution_count": 81,
   "metadata": {},
   "outputs": [
    {
     "name": "stdout",
     "output_type": "stream",
     "text": [
      "imported\n"
     ]
    }
   ],
   "source": [
    "import pandas as pd\n",
    "print(\"imported\")"
   ]
  }
 ],
 "metadata": {
  "kernelspec": {
   "display_name": "Python 3",
   "language": "python",
   "name": "python3"
  },
  "language_info": {
   "codemirror_mode": {
    "name": "ipython",
    "version": 3
   },
   "file_extension": ".py",
   "mimetype": "text/x-python",
   "name": "python",
   "nbconvert_exporter": "python",
   "pygments_lexer": "ipython3",
   "version": "3.12.4"
  }
 },
 "nbformat": 4,
 "nbformat_minor": 2
}
